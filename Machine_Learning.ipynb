{
  "nbformat": 4,
  "nbformat_minor": 0,
  "metadata": {
    "colab": {
      "name": "Machine Learning.ipynb",
      "provenance": [],
      "collapsed_sections": [],
      "include_colab_link": true
    },
    "kernelspec": {
      "name": "python3",
      "display_name": "Python 3"
    }
  },
  "cells": [
    {
      "cell_type": "markdown",
      "metadata": {
        "id": "view-in-github",
        "colab_type": "text"
      },
      "source": [
        "<a href=\"https://colab.research.google.com/github/StevenTaruc/LeagueOfLegendsAnalysis/blob/master/Machine_Learning.ipynb\" target=\"_parent\"><img src=\"https://colab.research.google.com/assets/colab-badge.svg\" alt=\"Open In Colab\"/></a>"
      ]
    },
    {
      "cell_type": "markdown",
      "metadata": {
        "id": "YBhs4WVKBryH",
        "colab_type": "text"
      },
      "source": [
        "# Machine Learning\n",
        "* Data 301 Final Project\n",
        "* Steven Taruc, Josiah Lashley\n",
        "\n",
        "\n"
      ]
    },
    {
      "cell_type": "code",
      "metadata": {
        "id": "jZbRvn0N4I2W",
        "colab_type": "code",
        "colab": {}
      },
      "source": [
        "import requests \n",
        "import json\n",
        "import time\n",
        "import pandas as pd\n",
        "from pandas.io.json import json_normalize\n",
        "import numpy as np\n",
        "import matplotlib.pyplot as plt\n",
        "from sklearn.preprocessing import StandardScaler, MinMaxScaler, MaxAbsScaler, OneHotEncoder\n",
        "from sklearn.neighbors import KNeighborsRegressor, KNeighborsClassifier\n",
        "from sklearn.ensemble import RandomForestRegressor\n",
        "from sklearn.linear_model import LinearRegression\n",
        "from sklearn.pipeline import make_pipeline\n",
        "from sklearn.compose import ColumnTransformer, make_column_transformer\n",
        "from sklearn.feature_extraction.text import TfidfVectorizer\n",
        "from sklearn.model_selection import cross_val_score, GridSearchCV\n",
        "from sklearn.metrics import mean_squared_error\n",
        "from sklearn.neural_network import MLPRegressor, MLPClassifier\n",
        "from sklearn.metrics import accuracy_score, precision_score, recall_score\n",
        "from sklearn.metrics import f1_score"
      ],
      "execution_count": 0,
      "outputs": []
    },
    {
      "cell_type": "code",
      "metadata": {
        "id": "3Wq8Wj6m4UYz",
        "colab_type": "code",
        "outputId": "8d775768-2400-4314-ddd4-1b2fb1855cc1",
        "colab": {
          "base_uri": "https://localhost:8080/",
          "height": 129
        }
      },
      "source": [
        "from google.colab import drive\n",
        "drive.mount('/drive')"
      ],
      "execution_count": 5,
      "outputs": [
        {
          "output_type": "stream",
          "text": [
            "Go to this URL in a browser: https://accounts.google.com/o/oauth2/auth?client_id=947318989803-6bn6qk8qdgf4n4g3pfee6491hc0brc4i.apps.googleusercontent.com&redirect_uri=urn%3aietf%3awg%3aoauth%3a2.0%3aoob&response_type=code&scope=email%20https%3a%2f%2fwww.googleapis.com%2fauth%2fdocs.test%20https%3a%2f%2fwww.googleapis.com%2fauth%2fdrive%20https%3a%2f%2fwww.googleapis.com%2fauth%2fdrive.photos.readonly%20https%3a%2f%2fwww.googleapis.com%2fauth%2fpeopleapi.readonly\n",
            "\n",
            "Enter your authorization code:\n",
            "··········\n",
            "Mounted at /drive\n"
          ],
          "name": "stdout"
        }
      ]
    },
    {
      "cell_type": "markdown",
      "metadata": {
        "id": "uNx9vAGz-JhA",
        "colab_type": "text"
      },
      "source": [
        "# Machine Learning Analysis"
      ]
    },
    {
      "cell_type": "code",
      "metadata": {
        "id": "LBhSb-GxcTF6",
        "colab_type": "code",
        "colab": {}
      },
      "source": [
        "df_games = pd.read_csv('/drive/My Drive/games.csv')\n",
        "df_gs = pd.read_csv('/drive/My Drive/game_stats.csv')"
      ],
      "execution_count": 0,
      "outputs": []
    },
    {
      "cell_type": "markdown",
      "metadata": {
        "id": "daP3FgET-Wvo",
        "colab_type": "text"
      },
      "source": [
        "## Simple Linear Regression on damage to others vs. damage taken"
      ]
    },
    {
      "cell_type": "code",
      "metadata": {
        "id": "083I5UBr-TPx",
        "colab_type": "code",
        "outputId": "bf50996c-43bb-4ce1-ceaa-245c9905a73d",
        "colab": {
          "base_uri": "https://localhost:8080/",
          "height": 352
        }
      },
      "source": [
        "X_train = df_gs[['totalDamageTaken']]  \n",
        "y_train = df_gs['totalDamageDealtToChampions']\n",
        "\n",
        "model = LinearRegression()\n",
        "model.fit(X=X_train, y=y_train)\n",
        "\n",
        "X_new = pd.DataFrame()\n",
        "X_new[\"totalDamageTaken\"] = np.linspace(3000,80000,num = 50)\n",
        "\n",
        "y_new_ = pd.Series(\n",
        "    model.predict(X_new),\n",
        "    index=X_new[\"totalDamageTaken\"]\n",
        ")\n",
        "\n",
        "df_gs.plot.scatter(x=\"totalDamageTaken\", y=\"totalDamageDealtToChampions\")\n",
        "y_new_.plot.line(c = 'red')"
      ],
      "execution_count": 9,
      "outputs": [
        {
          "output_type": "execute_result",
          "data": {
            "text/plain": [
              "<matplotlib.axes._subplots.AxesSubplot at 0x7f1bd118bf28>"
            ]
          },
          "metadata": {
            "tags": []
          },
          "execution_count": 9
        },
        {
          "output_type": "display_data",
          "data": {
            "image/png": "[encoded data removed]",
            "text/plain": [
              "<Figure size 360x360 with 1 Axes>"
            ]
          },
          "metadata": {
            "tags": []
          }
        }
      ]
    },
    {
      "cell_type": "code",
      "metadata": {
        "id": "Sqy2gQ0KI7bx",
        "colab_type": "code",
        "outputId": "b7be7492-db16-4339-a0a5-74a4e53fd21b",
        "colab": {
          "base_uri": "https://localhost:8080/",
          "height": 35
        }
      },
      "source": [
        "model.score(X=X_train,y=y_train)"
      ],
      "execution_count": 10,
      "outputs": [
        {
          "output_type": "execute_result",
          "data": {
            "text/plain": [
              "0.3530405561675627"
            ]
          },
          "metadata": {
            "tags": []
          },
          "execution_count": 10
        }
      ]
    },
    {
      "cell_type": "code",
      "metadata": {
        "id": "tJWmgluC-1hD",
        "colab_type": "code",
        "outputId": "2b36303d-7d95-4043-8462-69f534c8f7d7",
        "colab": {
          "base_uri": "https://localhost:8080/",
          "height": 35
        }
      },
      "source": [
        "scores = -cross_val_score(model, \n",
        "                         X=X_train,\n",
        "                         y=y_train,\n",
        "                         scoring=\"neg_mean_squared_error\",\n",
        "                         cv=10)\n",
        "np.sqrt(scores.mean())"
      ],
      "execution_count": 11,
      "outputs": [
        {
          "output_type": "execute_result",
          "data": {
            "text/plain": [
              "8668.7789915207"
            ]
          },
          "metadata": {
            "tags": []
          },
          "execution_count": 11
        }
      ]
    },
    {
      "cell_type": "markdown",
      "metadata": {
        "id": "-447hBoA_G8A",
        "colab_type": "text"
      },
      "source": [
        "## Predicting Win Probability using Pre-match Attributes"
      ]
    },
    {
      "cell_type": "code",
      "metadata": {
        "id": "5cBRhSjZ--53",
        "colab_type": "code",
        "colab": {
          "base_uri": "https://localhost:8080/",
          "height": 421
        },
        "outputId": "8d42e704-e480-41aa-cd45-5e32916c278e"
      },
      "source": [
        "X_train = df_gs[['champion_name',\n",
        "                 'role',\n",
        "                 'lane']].fillna('none')       \n",
        "y_train = df_gs['win'].fillna('none')\n",
        "\n",
        "pipeline = make_pipeline(make_column_transformer(\n",
        "    (OneHotEncoder(handle_unknown='ignore'), ['champion_name','role','lane'])),\n",
        "    StandardScaler(with_mean=False),\n",
        "    KNeighborsClassifier(n_neighbors=10)\n",
        ")\n",
        "\n",
        "pipeline.fit(X = X_train, y = y_train)"
      ],
      "execution_count": 12,
      "outputs": [
        {
          "output_type": "execute_result",
          "data": {
            "text/plain": [
              "Pipeline(memory=None,\n",
              "         steps=[('columntransformer',\n",
              "                 ColumnTransformer(n_jobs=None, remainder='drop',\n",
              "                                   sparse_threshold=0.3,\n",
              "                                   transformer_weights=None,\n",
              "                                   transformers=[('onehotencoder',\n",
              "                                                  OneHotEncoder(categories='auto',\n",
              "                                                                drop=None,\n",
              "                                                                dtype=<class 'numpy.float64'>,\n",
              "                                                                handle_unknown='ignore',\n",
              "                                                                sparse=True),\n",
              "                                                  ['champion_name', 'role',\n",
              "                                                   'lane'])],\n",
              "                                   verbose=False)),\n",
              "                ('standardscaler',\n",
              "                 StandardScaler(copy=True, with_mean=False, with_std=True)),\n",
              "                ('kneighborsclassifier',\n",
              "                 KNeighborsClassifier(algorithm='auto', leaf_size=30,\n",
              "                                      metric='minkowski', metric_params=None,\n",
              "                                      n_jobs=None, n_neighbors=10, p=2,\n",
              "                                      weights='uniform'))],\n",
              "         verbose=False)"
            ]
          },
          "metadata": {
            "tags": []
          },
          "execution_count": 12
        }
      ]
    },
    {
      "cell_type": "code",
      "metadata": {
        "id": "sdiP_K_fcp3v",
        "colab_type": "code",
        "colab": {}
      },
      "source": [
        "role_counts = df_games['role'].value_counts()\n",
        "most_used_role = role_counts[[0]].index[0]\n",
        "\n",
        "lane_counts = df_games['lane'].value_counts()\n",
        "most_used_lane = lane_counts[[0]].index[0]\n",
        "\n",
        "champ_counts = df_games['champion_name'].value_counts()\n",
        "most_used_champ = champ_counts[[0]].index[0]"
      ],
      "execution_count": 0,
      "outputs": []
    },
    {
      "cell_type": "code",
      "metadata": {
        "id": "Nvhd01Nl_U48",
        "colab_type": "code",
        "outputId": "2698d444-4b79-4ec4-d78a-aeb6954cc20a",
        "colab": {
          "base_uri": "https://localhost:8080/",
          "height": 81
        }
      },
      "source": [
        "test1 = pd.DataFrame({\n",
        "    'champion_name':[most_used_champ],\n",
        "    'role':[most_used_role],\n",
        "    'lane':[most_used_lane]\n",
        "})\n",
        "test1"
      ],
      "execution_count": 16,
      "outputs": [
        {
          "output_type": "execute_result",
          "data": {
            "text/html": [
              "<div>\n",
              "<style scoped>\n",
              "    .dataframe tbody tr th:only-of-type {\n",
              "        vertical-align: middle;\n",
              "    }\n",
              "\n",
              "    .dataframe tbody tr th {\n",
              "        vertical-align: top;\n",
              "    }\n",
              "\n",
              "    .dataframe thead th {\n",
              "        text-align: right;\n",
              "    }\n",
              "</style>\n",
              "<table border=\"1\" class=\"dataframe\">\n",
              "  <thead>\n",
              "    <tr style=\"text-align: right;\">\n",
              "      <th></th>\n",
              "      <th>champion_name</th>\n",
              "      <th>role</th>\n",
              "      <th>lane</th>\n",
              "    </tr>\n",
              "  </thead>\n",
              "  <tbody>\n",
              "    <tr>\n",
              "      <th>0</th>\n",
              "      <td>Kalista</td>\n",
              "      <td>SOLO</td>\n",
              "      <td>TOP</td>\n",
              "    </tr>\n",
              "  </tbody>\n",
              "</table>\n",
              "</div>"
            ],
            "text/plain": [
              "  champion_name  role lane\n",
              "0       Kalista  SOLO  TOP"
            ]
          },
          "metadata": {
            "tags": []
          },
          "execution_count": 16
        }
      ]
    },
    {
      "cell_type": "code",
      "metadata": {
        "id": "Ux5IL_t2_XZY",
        "colab_type": "code",
        "outputId": "3c789ea7-d067-4e84-adf2-45f02c38fbbc",
        "colab": {
          "base_uri": "https://localhost:8080/",
          "height": 35
        }
      },
      "source": [
        "pipeline.predict_proba(test1)"
      ],
      "execution_count": 17,
      "outputs": [
        {
          "output_type": "execute_result",
          "data": {
            "text/plain": [
              "array([[0.6, 0.4]])"
            ]
          },
          "metadata": {
            "tags": []
          },
          "execution_count": 17
        }
      ]
    },
    {
      "cell_type": "markdown",
      "metadata": {
        "id": "J3LldBVO_caE",
        "colab_type": "text"
      },
      "source": [
        "We are able to setup a k-nearest neighbors classifier that predicts game outcome from pre-match attributes. Using our most used champion, role, and lane from our collected data of 100 matches, we predict to have a 60% chance of winning and 40% chance of losing a match. "
      ]
    },
    {
      "cell_type": "code",
      "metadata": {
        "id": "ZQQfggwtAgy4",
        "colab_type": "code",
        "outputId": "83271653-71d7-4ea6-b6d7-edd924ed441c",
        "colab": {
          "base_uri": "https://localhost:8080/",
          "height": 35
        }
      },
      "source": [
        "is_win = (y_train == True)\n",
        "\n",
        "accuracy_scores = cross_val_score(pipeline, X_train, y_train, \n",
        "                            cv=10, scoring=\"accuracy\")\n",
        "\n",
        "precision_scores = cross_val_score(pipeline, X_train, is_win, \n",
        "                cv=10, scoring=\"precision\")\n",
        "\n",
        "recall_scores = cross_val_score(pipeline, X_train, is_win, \n",
        "                cv=10, scoring=\"recall\")\n",
        "\n",
        "accuracy_scores.mean(), precision_scores.mean(), recall_scores.mean()"
      ],
      "execution_count": 18,
      "outputs": [
        {
          "output_type": "execute_result",
          "data": {
            "text/plain": [
              "(0.5299999999999999, 0.5916666666666666, 0.36333333333333334)"
            ]
          },
          "metadata": {
            "tags": []
          },
          "execution_count": 18
        }
      ]
    },
    {
      "cell_type": "markdown",
      "metadata": {
        "id": "xIA5xwOPAkM_",
        "colab_type": "text"
      },
      "source": [
        "However, our model is not a good predictor of game outcome. Calculating our model accuracy, precision, and recall, we see that the pre-game decisions are not the best for determining whether you'll win or lose a match. "
      ]
    },
    {
      "cell_type": "markdown",
      "metadata": {
        "id": "hNkIlcFdL7xw",
        "colab_type": "text"
      },
      "source": [
        "# Machine Learning on models between Josiah and Gbay\n",
        "\n",
        "**My data will be on ranked games**\n",
        "\n",
        "\n",
        "**Gbay is a famous league of legends youtuber and it will also be on ranked games**"
      ]
    },
    {
      "cell_type": "code",
      "metadata": {
        "id": "j-Q_428BdPkW",
        "colab_type": "code",
        "colab": {}
      },
      "source": [
        "df_me_ranked = pd.read_csv('/drive/My Drive/me_ranked.csv')\n",
        "df_gbay_ranked = pd.read_csv('/drive/My Drive/gbay_ranked.csv')"
      ],
      "execution_count": 0,
      "outputs": []
    },
    {
      "cell_type": "code",
      "metadata": {
        "id": "i5vkAqXfMrS9",
        "colab_type": "code",
        "colab": {
          "base_uri": "https://localhost:8080/",
          "height": 237
        },
        "outputId": "1dc497dd-9113-4016-d6e9-e33f900ec8eb"
      },
      "source": [
        "df_plot = df_gbay_ranked[df_gbay_ranked[\"type\"] == \"CHAMPION_KILL\"]\n",
        "df_plot[\"map.y\"] = (15000 - df_plot[\"position.y\"]) / 29.3\n",
        "df_plot[\"map.x\"] = df_plot[\"position.x\"] / 29.3"
      ],
      "execution_count": 20,
      "outputs": [
        {
          "output_type": "stream",
          "text": [
            "/usr/local/lib/python3.6/dist-packages/ipykernel_launcher.py:2: SettingWithCopyWarning: \n",
            "A value is trying to be set on a copy of a slice from a DataFrame.\n",
            "Try using .loc[row_indexer,col_indexer] = value instead\n",
            "\n",
            "See the caveats in the documentation: http://pandas.pydata.org/pandas-docs/stable/user_guide/indexing.html#returning-a-view-versus-a-copy\n",
            "  \n",
            "/usr/local/lib/python3.6/dist-packages/ipykernel_launcher.py:3: SettingWithCopyWarning: \n",
            "A value is trying to be set on a copy of a slice from a DataFrame.\n",
            "Try using .loc[row_indexer,col_indexer] = value instead\n",
            "\n",
            "See the caveats in the documentation: http://pandas.pydata.org/pandas-docs/stable/user_guide/indexing.html#returning-a-view-versus-a-copy\n",
            "  This is separate from the ipykernel package so we can avoid doing imports until\n"
          ],
          "name": "stderr"
        }
      ]
    },
    {
      "cell_type": "code",
      "metadata": {
        "id": "LvApqwNGMxSS",
        "colab_type": "code",
        "colab": {}
      },
      "source": [
        "# Looking at kills before and after 17 mins\n",
        "df_kills = df_plot[df_plot[\"kill\"] == 1]\n",
        "df_k00 = df_kills[df_kills[\"minute\"] < 17]\n",
        "df_k17 = df_kills[(df_kills[\"minute\"] >= 17)]"
      ],
      "execution_count": 0,
      "outputs": []
    },
    {
      "cell_type": "code",
      "metadata": {
        "id": "QuOE2O0JNwQh",
        "colab_type": "code",
        "colab": {}
      },
      "source": [
        "df_me = df_me_ranked[df_me_ranked[\"minute\"].notna()]\n",
        "df_me_10 = df_me[df_me[\"minute\"]>10]"
      ],
      "execution_count": 0,
      "outputs": []
    },
    {
      "cell_type": "code",
      "metadata": {
        "id": "gFRJRBABNyCS",
        "colab_type": "code",
        "colab": {}
      },
      "source": [
        "df_gbay = df_gbay_ranked[df_gbay_ranked[\"minute\"].notna()]\n",
        "df_gbay_10 = df_gbay[df_gbay[\"minute\"]>10]"
      ],
      "execution_count": 0,
      "outputs": []
    },
    {
      "cell_type": "code",
      "metadata": {
        "id": "3LUUYJeKNy4z",
        "colab_type": "code",
        "outputId": "abb95944-3414-475f-ffd6-0408a95b5fc6",
        "colab": {
          "base_uri": "https://localhost:8080/",
          "height": 35
        }
      },
      "source": [
        "features = [\"tower_assisting\", \"tower_kill\", \"kill\", \"death\",\"level_up\",\"assist\",\n",
        "            \"minute\",\"kills\",\"deaths\",\"level\",\"kill_participation\",\"tower_kills\",\n",
        "            \"team_participation\"]\n",
        "\n",
        "model1 = make_pipeline(\n",
        "  StandardScaler(with_mean=False),\n",
        "  MLPClassifier(hidden_layer_sizes=(10,), max_iter=10000)\n",
        "  )\n",
        "\n",
        "model1.fit(X=df_gbay_10[features],y=df_gbay_10[\"win\"])\n",
        "\n",
        "cv_errs = cross_val_score(model1,X=df_gbay_10[features],\n",
        "                                  y=df_gbay_10[\"win\"],\n",
        "                                  scoring=\"f1_macro\", \n",
        "                                  cv=30)\n",
        "cv_errs.mean()"
      ],
      "execution_count": 24,
      "outputs": [
        {
          "output_type": "execute_result",
          "data": {
            "text/plain": [
              "0.7127732351437192"
            ]
          },
          "metadata": {
            "tags": []
          },
          "execution_count": 24
        }
      ]
    },
    {
      "cell_type": "code",
      "metadata": {
        "id": "VGRYzCopOIhP",
        "colab_type": "code",
        "outputId": "34ce5672-c01a-4e6b-f2ca-7d3fce22024e",
        "colab": {
          "base_uri": "https://localhost:8080/",
          "height": 35
        }
      },
      "source": [
        "features = [\"tower_assisting\", \"tower_kill\", \"kill\", \"death\",\"level_up\",\"assist\",\n",
        "            \"minute\",\"kills\",\"deaths\",\"level\",\"kill_participation\",\"tower_kills\",\n",
        "            \"team_participation\"]\n",
        "\n",
        "model2 = make_pipeline(\n",
        "  StandardScaler(with_mean=False),\n",
        "  MLPClassifier(hidden_layer_sizes=(10,), max_iter=10000)\n",
        "  )\n",
        "\n",
        "model2.fit(X=df_me_10[features],y=df_me_10[\"win\"])\n",
        "\n",
        "cv_errs = cross_val_score(model2,X=df_me_10[features],\n",
        "                                  y=df_me_10[\"win\"],\n",
        "                                  scoring=\"f1_macro\", \n",
        "                                  cv=30)\n",
        "cv_errs.mean()"
      ],
      "execution_count": 25,
      "outputs": [
        {
          "output_type": "execute_result",
          "data": {
            "text/plain": [
              "0.6900587943534472"
            ]
          },
          "metadata": {
            "tags": []
          },
          "execution_count": 25
        }
      ]
    }
  ]
}