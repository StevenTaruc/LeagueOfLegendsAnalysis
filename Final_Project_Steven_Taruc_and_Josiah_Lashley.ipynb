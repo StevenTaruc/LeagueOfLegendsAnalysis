{
  "nbformat": 4,
  "nbformat_minor": 0,
  "metadata": {
    "colab": {
      "name": "Final Project - Steven Taruc and Josiah Lashley.ipynb",
      "provenance": [],
      "collapsed_sections": [],
      "include_colab_link": true
    },
    "kernelspec": {
      "name": "python3",
      "display_name": "Python 3"
    }
  },
  "cells": [
    {
      "cell_type": "markdown",
      "metadata": {
        "id": "view-in-github",
        "colab_type": "text"
      },
      "source": [
        "<a href=\"https://colab.research.google.com/github/StevenTaruc/LeagueOfLegendsAnalysis/blob/master/Final_Project_Steven_Taruc_and_Josiah_Lashley.ipynb\" target=\"_parent\"><img src=\"https://colab.research.google.com/assets/colab-badge.svg\" alt=\"Open In Colab\"/></a>"
      ]
    },
    {
      "cell_type": "markdown",
      "metadata": {
        "id": "YBhs4WVKBryH",
        "colab_type": "text"
      },
      "source": [
        "# League of Legends Match Analysis\n",
        "\n",
        "*   Exploratory Data Analysis and Summary statistics\n",
        "*   Machine Learning and predicting win percentage\n",
        "*   Timeline and Map Location and Analysis\n",
        "\n"
      ]
    },
    {
      "cell_type": "code",
      "metadata": {
        "id": "jZbRvn0N4I2W",
        "colab_type": "code",
        "colab": {}
      },
      "source": [
        "import requests \n",
        "import json\n",
        "import time\n",
        "import pandas as pd\n",
        "from pandas.io.json import json_normalize\n",
        "import numpy as np\n",
        "import matplotlib.pyplot as plt\n",
        "from sklearn.preprocessing import StandardScaler, MinMaxScaler, MaxAbsScaler, OneHotEncoder\n",
        "from sklearn.neighbors import KNeighborsRegressor, KNeighborsClassifier\n",
        "from sklearn.ensemble import RandomForestRegressor\n",
        "from sklearn.linear_model import LinearRegression\n",
        "from sklearn.pipeline import make_pipeline\n",
        "from sklearn.compose import ColumnTransformer, make_column_transformer\n",
        "from sklearn.feature_extraction.text import TfidfVectorizer\n",
        "from sklearn.model_selection import cross_val_score, GridSearchCV\n",
        "from sklearn.metrics import mean_squared_error\n",
        "from sklearn.neural_network import MLPRegressor, MLPClassifier\n",
        "from sklearn.metrics import accuracy_score, precision_score, recall_score\n",
        "from sklearn.metrics import f1_score"
      ],
      "execution_count": 0,
      "outputs": []
    },
    {
      "cell_type": "code",
      "metadata": {
        "id": "3Wq8Wj6m4UYz",
        "colab_type": "code",
        "outputId": "4568b824-d7ca-4a85-f66e-ba872abad7cb",
        "colab": {
          "base_uri": "https://localhost:8080/",
          "height": 35
        }
      },
      "source": [
        "from google.colab import drive\n",
        "drive.mount(\"/content/drive\")"
      ],
      "execution_count": 0,
      "outputs": [
        {
          "output_type": "stream",
          "text": [
            "Drive already mounted at /content/drive; to attempt to forcibly remount, call drive.mount(\"/content/drive\", force_remount=True).\n"
          ],
          "name": "stdout"
        }
      ]
    },
    {
      "cell_type": "markdown",
      "metadata": {
        "id": "LFoszTVj5BWt",
        "colab_type": "text"
      },
      "source": [
        "# Retrieving match statistics from a player"
      ]
    },
    {
      "cell_type": "code",
      "metadata": {
        "id": "nNFzyXOE48bL",
        "colab_type": "code",
        "outputId": "4183882f-26ae-4b7d-9f26-784ef3b7278c",
        "colab": {
          "base_uri": "https://localhost:8080/",
          "height": 206
        }
      },
      "source": [
        "#get response for account_id from summoner id \n",
        "key = 'RGAPI-2b9f81cd-c2de-4bea-ae30-c1a3f2fb3e72'\n",
        "summoner_name = 'licorice'\n",
        "\n",
        "account_resp = requests.get('https://na1.api.riotgames.com/lol/summoner/v4/summoners/by-name/%s?api_key=%s' % (summoner_name, key))\n",
        "account_id = account_resp.json()['accountId']\n",
        "\n",
        "#get response of matchlists from season 13\n",
        "resp = requests.get(\"https://na1.api.riotgames.com/lol/match/v4/matchlists/by-account/%s?&api_key=%s\" % (account_id,key))\n",
        "\n",
        "df_games = json_normalize(resp.json()['matches'])\n",
        "df_games.head()"
      ],
      "execution_count": 0,
      "outputs": [
        {
          "output_type": "execute_result",
          "data": {
            "text/html": [
              "<div>\n",
              "<style scoped>\n",
              "    .dataframe tbody tr th:only-of-type {\n",
              "        vertical-align: middle;\n",
              "    }\n",
              "\n",
              "    .dataframe tbody tr th {\n",
              "        vertical-align: top;\n",
              "    }\n",
              "\n",
              "    .dataframe thead th {\n",
              "        text-align: right;\n",
              "    }\n",
              "</style>\n",
              "<table border=\"1\" class=\"dataframe\">\n",
              "  <thead>\n",
              "    <tr style=\"text-align: right;\">\n",
              "      <th></th>\n",
              "      <th>platformId</th>\n",
              "      <th>gameId</th>\n",
              "      <th>champion</th>\n",
              "      <th>queue</th>\n",
              "      <th>season</th>\n",
              "      <th>timestamp</th>\n",
              "      <th>role</th>\n",
              "      <th>lane</th>\n",
              "    </tr>\n",
              "  </thead>\n",
              "  <tbody>\n",
              "    <tr>\n",
              "      <th>0</th>\n",
              "      <td>NA1</td>\n",
              "      <td>3328664670</td>\n",
              "      <td>429</td>\n",
              "      <td>420</td>\n",
              "      <td>13</td>\n",
              "      <td>1584501608128</td>\n",
              "      <td>SOLO</td>\n",
              "      <td>TOP</td>\n",
              "    </tr>\n",
              "    <tr>\n",
              "      <th>1</th>\n",
              "      <td>NA1</td>\n",
              "      <td>3328526992</td>\n",
              "      <td>104</td>\n",
              "      <td>420</td>\n",
              "      <td>13</td>\n",
              "      <td>1584498834816</td>\n",
              "      <td>DUO</td>\n",
              "      <td>MID</td>\n",
              "    </tr>\n",
              "    <tr>\n",
              "      <th>2</th>\n",
              "      <td>NA1</td>\n",
              "      <td>3327643642</td>\n",
              "      <td>104</td>\n",
              "      <td>420</td>\n",
              "      <td>13</td>\n",
              "      <td>1584420800770</td>\n",
              "      <td>SOLO</td>\n",
              "      <td>TOP</td>\n",
              "    </tr>\n",
              "    <tr>\n",
              "      <th>3</th>\n",
              "      <td>NA1</td>\n",
              "      <td>3327572194</td>\n",
              "      <td>429</td>\n",
              "      <td>420</td>\n",
              "      <td>13</td>\n",
              "      <td>1584417162854</td>\n",
              "      <td>SOLO</td>\n",
              "      <td>TOP</td>\n",
              "    </tr>\n",
              "    <tr>\n",
              "      <th>4</th>\n",
              "      <td>NA1</td>\n",
              "      <td>3327515909</td>\n",
              "      <td>429</td>\n",
              "      <td>420</td>\n",
              "      <td>13</td>\n",
              "      <td>1584415337824</td>\n",
              "      <td>SOLO</td>\n",
              "      <td>TOP</td>\n",
              "    </tr>\n",
              "  </tbody>\n",
              "</table>\n",
              "</div>"
            ],
            "text/plain": [
              "  platformId      gameId  champion  queue  season      timestamp  role lane\n",
              "0        NA1  3328664670       429    420      13  1584501608128  SOLO  TOP\n",
              "1        NA1  3328526992       104    420      13  1584498834816   DUO  MID\n",
              "2        NA1  3327643642       104    420      13  1584420800770  SOLO  TOP\n",
              "3        NA1  3327572194       429    420      13  1584417162854  SOLO  TOP\n",
              "4        NA1  3327515909       429    420      13  1584415337824  SOLO  TOP"
            ]
          },
          "metadata": {
            "tags": []
          },
          "execution_count": 48
        }
      ]
    },
    {
      "cell_type": "markdown",
      "metadata": {
        "id": "rQtruE239MTH",
        "colab_type": "text"
      },
      "source": [
        "## What role do you play the most?"
      ]
    },
    {
      "cell_type": "code",
      "metadata": {
        "id": "c1isYSQo8cK8",
        "colab_type": "code",
        "outputId": "fe91b055-69a9-4bd3-85ce-cd57554e2822",
        "colab": {
          "base_uri": "https://localhost:8080/",
          "height": 456
        }
      },
      "source": [
        "role_counts = df_games['role'].value_counts()\n",
        "most_used_role = role_counts[[0]].index[0]\n",
        "role_counts, role_counts.plot.bar()"
      ],
      "execution_count": 0,
      "outputs": [
        {
          "output_type": "execute_result",
          "data": {
            "text/plain": [
              "(SOLO           57\n",
              " DUO_SUPPORT    20\n",
              " DUO            18\n",
              " DUO_CARRY       3\n",
              " NONE            2\n",
              " Name: role, dtype: int64,\n",
              " <matplotlib.axes._subplots.AxesSubplot at 0x7f22d68afdd8>)"
            ]
          },
          "metadata": {
            "tags": []
          },
          "execution_count": 49
        },
        {
          "output_type": "display_data",
          "data": {
            "image/png": "[encoded data removed]",
            "text/plain": [
              "<Figure size 432x288 with 1 Axes>"
            ]
          },
          "metadata": {
            "tags": []
          }
        }
      ]
    },
    {
      "cell_type": "markdown",
      "metadata": {
        "id": "upRN116i9dZe",
        "colab_type": "text"
      },
      "source": [
        "## What lane do you play the most?"
      ]
    },
    {
      "cell_type": "code",
      "metadata": {
        "id": "oekbZquy8hrw",
        "colab_type": "code",
        "outputId": "32ff6c29-d32c-40dc-ca42-20ecc0f6484c",
        "colab": {
          "base_uri": "https://localhost:8080/",
          "height": 402
        }
      },
      "source": [
        "lane_counts = df_games['lane'].value_counts()\n",
        "most_used_lane = lane_counts[[0]].index[0]\n",
        "lane_counts, lane_counts.plot.bar()"
      ],
      "execution_count": 0,
      "outputs": [
        {
          "output_type": "execute_result",
          "data": {
            "text/plain": [
              "(TOP       64\n",
              " NONE      24\n",
              " MID       10\n",
              " JUNGLE     2\n",
              " Name: lane, dtype: int64,\n",
              " <matplotlib.axes._subplots.AxesSubplot at 0x7f22d6872c18>)"
            ]
          },
          "metadata": {
            "tags": []
          },
          "execution_count": 50
        },
        {
          "output_type": "display_data",
          "data": {
            "image/png": "[encoded data removed]",
            "text/plain": [
              "<Figure size 432x288 with 1 Axes>"
            ]
          },
          "metadata": {
            "tags": []
          }
        }
      ]
    },
    {
      "cell_type": "markdown",
      "metadata": {
        "id": "LNVAQoBF9mMH",
        "colab_type": "text"
      },
      "source": [
        "## What champion do you play the most? "
      ]
    },
    {
      "cell_type": "code",
      "metadata": {
        "id": "EpaVTYG18k5z",
        "colab_type": "code",
        "colab": {}
      },
      "source": [
        "# Retrieve champion data from ddragon \n",
        "champions_resp = requests.get('http://ddragon.leagueoflegends.com/cdn/9.3.1/data/en_US/champion.json')"
      ],
      "execution_count": 0,
      "outputs": []
    },
    {
      "cell_type": "code",
      "metadata": {
        "id": "ctKSFAdq8pq6",
        "colab_type": "code",
        "colab": {}
      },
      "source": [
        "champs = pd.DataFrame(champions_resp.json()['data'].keys(),\n",
        "                      columns=['champion_name'])\n",
        "champs.set_index('champion_name',inplace=True)\n",
        "for champ in champs.index:\n",
        "  champ_id = int(champions_resp.json()['data'][champ]['key'])\n",
        "  champs.loc[champ,'champion'] = champ_id\n",
        "champs.reset_index(inplace=True)\n",
        "\n",
        "df_games = df_games.merge(champs,on = 'champion',how='left')"
      ],
      "execution_count": 0,
      "outputs": []
    },
    {
      "cell_type": "code",
      "metadata": {
        "id": "jTyGpt648tyh",
        "colab_type": "code",
        "outputId": "18369e5f-b9cb-4976-9282-a2a0c42434db",
        "colab": {
          "base_uri": "https://localhost:8080/",
          "height": 420
        }
      },
      "source": [
        "champ_counts = df_games['champion_name'].value_counts()\n",
        "most_used_champ = champ_counts[[0]].index[0]\n",
        "champ_counts[:5], champ_counts[:5].plot.bar()"
      ],
      "execution_count": 0,
      "outputs": [
        {
          "output_type": "execute_result",
          "data": {
            "text/plain": [
              "(Kalista    16\n",
              " Camille    10\n",
              " Irelia      8\n",
              " Aatrox      7\n",
              " Lucian      6\n",
              " Name: champion_name, dtype: int64,\n",
              " <matplotlib.axes._subplots.AxesSubplot at 0x7f22dae91ac8>)"
            ]
          },
          "metadata": {
            "tags": []
          },
          "execution_count": 53
        },
        {
          "output_type": "display_data",
          "data": {
            "image/png": "[encoded data removed]",
            "text/plain": [
              "<Figure size 432x288 with 1 Axes>"
            ]
          },
          "metadata": {
            "tags": []
          }
        }
      ]
    },
    {
      "cell_type": "code",
      "metadata": {
        "id": "VY6Dc2Oa8w8J",
        "colab_type": "code",
        "colab": {}
      },
      "source": [
        "df_game_stats = pd.DataFrame()\n",
        "\n",
        "for match in df_games['gameId']:\n",
        "  match_response = requests.get('https://na1.api.riotgames.com/lol/match/v4/matches/%s?api_key=%s' % (match,key))\n",
        "  participants = json_normalize(match_response.json()['participantIdentities'])\n",
        "  participant_id = participants[participants['player.accountId'] == account_id]['participantId'].values[0]\n",
        "  p_stats = json_normalize(match_response.json()['participants'])\n",
        "  row = p_stats[p_stats['participantId'] == participant_id]\n",
        "  df_game_stats = pd.concat([df_game_stats,row],sort=False)\n",
        "  time.sleep(1.5)\n",
        "df_game_stats.reset_index(inplace=True)"
      ],
      "execution_count": 0,
      "outputs": []
    },
    {
      "cell_type": "code",
      "metadata": {
        "id": "SZQfr0vz9Dgi",
        "colab_type": "code",
        "colab": {}
      },
      "source": [
        "champs2 = champs.rename(columns={\"champion\": \"championId\"})\n",
        "df_game_stats = df_game_stats.merge(champs2,on = 'championId',how='left')"
      ],
      "execution_count": 0,
      "outputs": []
    },
    {
      "cell_type": "code",
      "metadata": {
        "id": "za-Arwj39zW9",
        "colab_type": "code",
        "outputId": "1cdd4005-5318-4598-b43f-26c09c4bfc93",
        "colab": {
          "base_uri": "https://localhost:8080/",
          "height": 255
        }
      },
      "source": [
        "#taking out unused variables and cleaning column names\n",
        "df_gs = df_game_stats.iloc[:,7:127]\n",
        "\n",
        "df_gs = pd.concat([df_gs,df_game_stats['champion_name']], axis = 1)\n",
        "\n",
        "df_gs['team_color'] = df_game_stats['teamId'].map({\n",
        "    100 : 'blue',\n",
        "    200 : 'red'\n",
        "})\n",
        "\n",
        "df_gs.columns = df_gs.columns.str.replace(r'stats.', '')\n",
        "df_gs.columns = df_gs.columns.str.replace(r'timeline.', '')\n",
        "\n",
        "df_gs.head()"
      ],
      "execution_count": 0,
      "outputs": [
        {
          "output_type": "execute_result",
          "data": {
            "text/html": [
              "<div>\n",
              "<style scoped>\n",
              "    .dataframe tbody tr th:only-of-type {\n",
              "        vertical-align: middle;\n",
              "    }\n",
              "\n",
              "    .dataframe tbody tr th {\n",
              "        vertical-align: top;\n",
              "    }\n",
              "\n",
              "    .dataframe thead th {\n",
              "        text-align: right;\n",
              "    }\n",
              "</style>\n",
              "<table border=\"1\" class=\"dataframe\">\n",
              "  <thead>\n",
              "    <tr style=\"text-align: right;\">\n",
              "      <th></th>\n",
              "      <th>win</th>\n",
              "      <th>item0</th>\n",
              "      <th>item1</th>\n",
              "      <th>item2</th>\n",
              "      <th>item3</th>\n",
              "      <th>item4</th>\n",
              "      <th>item5</th>\n",
              "      <th>item6</th>\n",
              "      <th>kills</th>\n",
              "      <th>deaths</th>\n",
              "      <th>assists</th>\n",
              "      <th>largestKillingSpree</th>\n",
              "      <th>largestMultiKill</th>\n",
              "      <th>killingSprees</th>\n",
              "      <th>longestTimeSpentLiving</th>\n",
              "      <th>doubleKills</th>\n",
              "      <th>tripleKills</th>\n",
              "      <th>quadraKills</th>\n",
              "      <th>pentaKills</th>\n",
              "      <th>unrealKills</th>\n",
              "      <th>totalDamageDealt</th>\n",
              "      <th>magicDamageDealt</th>\n",
              "      <th>physicalDamageDealt</th>\n",
              "      <th>trueDamageDealt</th>\n",
              "      <th>largestCriticalStrike</th>\n",
              "      <th>totalDamageDealtToChampions</th>\n",
              "      <th>magicDamageDealtToChampions</th>\n",
              "      <th>physicalDamageDealtToChampions</th>\n",
              "      <th>trueDamageDealtToChampions</th>\n",
              "      <th>totalHeal</th>\n",
              "      <th>totalUnitsHealed</th>\n",
              "      <th>damageSelfMitigated</th>\n",
              "      <th>damageDealtToObjectives</th>\n",
              "      <th>damageDealtToTurrets</th>\n",
              "      <th>visionScore</th>\n",
              "      <th>timeCCingOthers</th>\n",
              "      <th>totalDamageTaken</th>\n",
              "      <th>magicalDamageTaken</th>\n",
              "      <th>physicalDamageTaken</th>\n",
              "      <th>trueDamageTaken</th>\n",
              "      <th>...</th>\n",
              "      <th>perk2</th>\n",
              "      <th>perk2Var1</th>\n",
              "      <th>perk2Var2</th>\n",
              "      <th>perk2Var3</th>\n",
              "      <th>perk3</th>\n",
              "      <th>perk3Var1</th>\n",
              "      <th>perk3Var2</th>\n",
              "      <th>perk3Var3</th>\n",
              "      <th>perk4</th>\n",
              "      <th>perk4Var1</th>\n",
              "      <th>perk4Var2</th>\n",
              "      <th>perk4Var3</th>\n",
              "      <th>perk5</th>\n",
              "      <th>perk5Var1</th>\n",
              "      <th>perk5Var2</th>\n",
              "      <th>perk5Var3</th>\n",
              "      <th>perkPrimaryStyle</th>\n",
              "      <th>perkSubStyle</th>\n",
              "      <th>statPerk0</th>\n",
              "      <th>statPerk1</th>\n",
              "      <th>statPerk2</th>\n",
              "      <th>participantId</th>\n",
              "      <th>creepsPerMinDeltas.10-20</th>\n",
              "      <th>creepsPerMinDeltas.0-10</th>\n",
              "      <th>xpPerMinDeltas.10-20</th>\n",
              "      <th>xpPerMinDeltas.0-10</th>\n",
              "      <th>goldPerMinDeltas.10-20</th>\n",
              "      <th>goldPerMinDeltas.0-10</th>\n",
              "      <th>csDiffPerMinDeltas.10-20</th>\n",
              "      <th>csDiffPerMinDeltas.0-10</th>\n",
              "      <th>xpDiffPerMinDeltas.10-20</th>\n",
              "      <th>xpDiffPerMinDeltas.0-10</th>\n",
              "      <th>damageTakenPerMinDeltas.10-20</th>\n",
              "      <th>damageTakenPerMinDeltas.0-10</th>\n",
              "      <th>damageTakenDiffPerMinDeltas.10-20</th>\n",
              "      <th>damageTakenDiffPerMinDeltas.0-10</th>\n",
              "      <th>role</th>\n",
              "      <th>lane</th>\n",
              "      <th>champion_name</th>\n",
              "      <th>team_color</th>\n",
              "    </tr>\n",
              "  </thead>\n",
              "  <tbody>\n",
              "    <tr>\n",
              "      <th>0</th>\n",
              "      <td>False</td>\n",
              "      <td>3153</td>\n",
              "      <td>3085</td>\n",
              "      <td>3006</td>\n",
              "      <td>1053</td>\n",
              "      <td>1055</td>\n",
              "      <td>0</td>\n",
              "      <td>3340</td>\n",
              "      <td>4</td>\n",
              "      <td>7</td>\n",
              "      <td>3</td>\n",
              "      <td>2</td>\n",
              "      <td>1</td>\n",
              "      <td>2</td>\n",
              "      <td>394</td>\n",
              "      <td>0</td>\n",
              "      <td>0</td>\n",
              "      <td>0</td>\n",
              "      <td>0</td>\n",
              "      <td>0</td>\n",
              "      <td>94246</td>\n",
              "      <td>238</td>\n",
              "      <td>84397</td>\n",
              "      <td>9610</td>\n",
              "      <td>303</td>\n",
              "      <td>11098</td>\n",
              "      <td>238</td>\n",
              "      <td>10859</td>\n",
              "      <td>0</td>\n",
              "      <td>538</td>\n",
              "      <td>1</td>\n",
              "      <td>8086</td>\n",
              "      <td>2519</td>\n",
              "      <td>2519</td>\n",
              "      <td>19</td>\n",
              "      <td>7</td>\n",
              "      <td>14803</td>\n",
              "      <td>5623</td>\n",
              "      <td>6657</td>\n",
              "      <td>2522</td>\n",
              "      <td>...</td>\n",
              "      <td>8120</td>\n",
              "      <td>1</td>\n",
              "      <td>4</td>\n",
              "      <td>3</td>\n",
              "      <td>8135</td>\n",
              "      <td>381</td>\n",
              "      <td>2</td>\n",
              "      <td>0</td>\n",
              "      <td>9101</td>\n",
              "      <td>1241</td>\n",
              "      <td>2066</td>\n",
              "      <td>0</td>\n",
              "      <td>9104</td>\n",
              "      <td>13</td>\n",
              "      <td>20</td>\n",
              "      <td>0</td>\n",
              "      <td>8100</td>\n",
              "      <td>8000</td>\n",
              "      <td>5005</td>\n",
              "      <td>5008</td>\n",
              "      <td>5002</td>\n",
              "      <td>10</td>\n",
              "      <td>6.9</td>\n",
              "      <td>7.6</td>\n",
              "      <td>404.4</td>\n",
              "      <td>436.8</td>\n",
              "      <td>452.4</td>\n",
              "      <td>331.5</td>\n",
              "      <td>2.6</td>\n",
              "      <td>4.3</td>\n",
              "      <td>-40.3</td>\n",
              "      <td>100.0</td>\n",
              "      <td>812.3</td>\n",
              "      <td>355.3</td>\n",
              "      <td>164.2</td>\n",
              "      <td>-361.4</td>\n",
              "      <td>SOLO</td>\n",
              "      <td>TOP</td>\n",
              "      <td>Kalista</td>\n",
              "      <td>red</td>\n",
              "    </tr>\n",
              "    <tr>\n",
              "      <th>1</th>\n",
              "      <td>False</td>\n",
              "      <td>2055</td>\n",
              "      <td>3046</td>\n",
              "      <td>3065</td>\n",
              "      <td>3047</td>\n",
              "      <td>3072</td>\n",
              "      <td>3812</td>\n",
              "      <td>3340</td>\n",
              "      <td>7</td>\n",
              "      <td>9</td>\n",
              "      <td>10</td>\n",
              "      <td>3</td>\n",
              "      <td>2</td>\n",
              "      <td>2</td>\n",
              "      <td>504</td>\n",
              "      <td>1</td>\n",
              "      <td>0</td>\n",
              "      <td>0</td>\n",
              "      <td>0</td>\n",
              "      <td>0</td>\n",
              "      <td>257974</td>\n",
              "      <td>2667</td>\n",
              "      <td>255167</td>\n",
              "      <td>140</td>\n",
              "      <td>572</td>\n",
              "      <td>33710</td>\n",
              "      <td>1587</td>\n",
              "      <td>31982</td>\n",
              "      <td>140</td>\n",
              "      <td>3326</td>\n",
              "      <td>1</td>\n",
              "      <td>54683</td>\n",
              "      <td>17305</td>\n",
              "      <td>4475</td>\n",
              "      <td>40</td>\n",
              "      <td>26</td>\n",
              "      <td>26405</td>\n",
              "      <td>10044</td>\n",
              "      <td>11863</td>\n",
              "      <td>4496</td>\n",
              "      <td>...</td>\n",
              "      <td>9103</td>\n",
              "      <td>27</td>\n",
              "      <td>50</td>\n",
              "      <td>0</td>\n",
              "      <td>8299</td>\n",
              "      <td>868</td>\n",
              "      <td>0</td>\n",
              "      <td>0</td>\n",
              "      <td>8233</td>\n",
              "      <td>25</td>\n",
              "      <td>40</td>\n",
              "      <td>0</td>\n",
              "      <td>8236</td>\n",
              "      <td>28</td>\n",
              "      <td>0</td>\n",
              "      <td>0</td>\n",
              "      <td>8000</td>\n",
              "      <td>8200</td>\n",
              "      <td>5005</td>\n",
              "      <td>5008</td>\n",
              "      <td>5002</td>\n",
              "      <td>9</td>\n",
              "      <td>8.9</td>\n",
              "      <td>7.7</td>\n",
              "      <td>608.6</td>\n",
              "      <td>461.8</td>\n",
              "      <td>425.9</td>\n",
              "      <td>316.4</td>\n",
              "      <td>NaN</td>\n",
              "      <td>NaN</td>\n",
              "      <td>NaN</td>\n",
              "      <td>NaN</td>\n",
              "      <td>507.6</td>\n",
              "      <td>381.0</td>\n",
              "      <td>NaN</td>\n",
              "      <td>NaN</td>\n",
              "      <td>DUO</td>\n",
              "      <td>MIDDLE</td>\n",
              "      <td>Graves</td>\n",
              "      <td>red</td>\n",
              "    </tr>\n",
              "    <tr>\n",
              "      <th>2</th>\n",
              "      <td>False</td>\n",
              "      <td>2055</td>\n",
              "      <td>3812</td>\n",
              "      <td>3047</td>\n",
              "      <td>3123</td>\n",
              "      <td>1055</td>\n",
              "      <td>1038</td>\n",
              "      <td>3340</td>\n",
              "      <td>2</td>\n",
              "      <td>12</td>\n",
              "      <td>3</td>\n",
              "      <td>0</td>\n",
              "      <td>1</td>\n",
              "      <td>0</td>\n",
              "      <td>300</td>\n",
              "      <td>0</td>\n",
              "      <td>0</td>\n",
              "      <td>0</td>\n",
              "      <td>0</td>\n",
              "      <td>0</td>\n",
              "      <td>114013</td>\n",
              "      <td>767</td>\n",
              "      <td>100972</td>\n",
              "      <td>12274</td>\n",
              "      <td>0</td>\n",
              "      <td>18796</td>\n",
              "      <td>407</td>\n",
              "      <td>17930</td>\n",
              "      <td>459</td>\n",
              "      <td>1820</td>\n",
              "      <td>1</td>\n",
              "      <td>28079</td>\n",
              "      <td>2630</td>\n",
              "      <td>2630</td>\n",
              "      <td>10</td>\n",
              "      <td>15</td>\n",
              "      <td>23839</td>\n",
              "      <td>3138</td>\n",
              "      <td>18023</td>\n",
              "      <td>2677</td>\n",
              "      <td>...</td>\n",
              "      <td>9103</td>\n",
              "      <td>0</td>\n",
              "      <td>0</td>\n",
              "      <td>0</td>\n",
              "      <td>8299</td>\n",
              "      <td>901</td>\n",
              "      <td>0</td>\n",
              "      <td>0</td>\n",
              "      <td>8446</td>\n",
              "      <td>953</td>\n",
              "      <td>0</td>\n",
              "      <td>0</td>\n",
              "      <td>8429</td>\n",
              "      <td>57</td>\n",
              "      <td>17</td>\n",
              "      <td>11</td>\n",
              "      <td>8000</td>\n",
              "      <td>8400</td>\n",
              "      <td>5005</td>\n",
              "      <td>5008</td>\n",
              "      <td>5002</td>\n",
              "      <td>6</td>\n",
              "      <td>7.3</td>\n",
              "      <td>7.5</td>\n",
              "      <td>448.9</td>\n",
              "      <td>458.0</td>\n",
              "      <td>462.9</td>\n",
              "      <td>289.4</td>\n",
              "      <td>0.7</td>\n",
              "      <td>0.2</td>\n",
              "      <td>-171.8</td>\n",
              "      <td>-60.3</td>\n",
              "      <td>1225.3</td>\n",
              "      <td>591.3</td>\n",
              "      <td>1.1</td>\n",
              "      <td>-17.0</td>\n",
              "      <td>SOLO</td>\n",
              "      <td>TOP</td>\n",
              "      <td>Graves</td>\n",
              "      <td>red</td>\n",
              "    </tr>\n",
              "    <tr>\n",
              "      <th>3</th>\n",
              "      <td>True</td>\n",
              "      <td>3153</td>\n",
              "      <td>3033</td>\n",
              "      <td>1055</td>\n",
              "      <td>3085</td>\n",
              "      <td>3006</td>\n",
              "      <td>1083</td>\n",
              "      <td>3340</td>\n",
              "      <td>2</td>\n",
              "      <td>8</td>\n",
              "      <td>8</td>\n",
              "      <td>0</td>\n",
              "      <td>1</td>\n",
              "      <td>0</td>\n",
              "      <td>279</td>\n",
              "      <td>0</td>\n",
              "      <td>0</td>\n",
              "      <td>0</td>\n",
              "      <td>0</td>\n",
              "      <td>0</td>\n",
              "      <td>161122</td>\n",
              "      <td>991</td>\n",
              "      <td>159835</td>\n",
              "      <td>295</td>\n",
              "      <td>468</td>\n",
              "      <td>16008</td>\n",
              "      <td>638</td>\n",
              "      <td>15229</td>\n",
              "      <td>139</td>\n",
              "      <td>5443</td>\n",
              "      <td>1</td>\n",
              "      <td>15750</td>\n",
              "      <td>10931</td>\n",
              "      <td>4990</td>\n",
              "      <td>35</td>\n",
              "      <td>13</td>\n",
              "      <td>22834</td>\n",
              "      <td>6678</td>\n",
              "      <td>15600</td>\n",
              "      <td>556</td>\n",
              "      <td>...</td>\n",
              "      <td>8120</td>\n",
              "      <td>4</td>\n",
              "      <td>18</td>\n",
              "      <td>9</td>\n",
              "      <td>8135</td>\n",
              "      <td>1534</td>\n",
              "      <td>5</td>\n",
              "      <td>0</td>\n",
              "      <td>9101</td>\n",
              "      <td>6359</td>\n",
              "      <td>5094</td>\n",
              "      <td>0</td>\n",
              "      <td>9104</td>\n",
              "      <td>23</td>\n",
              "      <td>10</td>\n",
              "      <td>0</td>\n",
              "      <td>8100</td>\n",
              "      <td>8000</td>\n",
              "      <td>5005</td>\n",
              "      <td>5008</td>\n",
              "      <td>5002</td>\n",
              "      <td>9</td>\n",
              "      <td>8.7</td>\n",
              "      <td>5.4</td>\n",
              "      <td>502.9</td>\n",
              "      <td>356.5</td>\n",
              "      <td>424.8</td>\n",
              "      <td>220.6</td>\n",
              "      <td>0.1</td>\n",
              "      <td>-0.5</td>\n",
              "      <td>-147.5</td>\n",
              "      <td>-88.1</td>\n",
              "      <td>785.6</td>\n",
              "      <td>465.4</td>\n",
              "      <td>185.0</td>\n",
              "      <td>55.9</td>\n",
              "      <td>SOLO</td>\n",
              "      <td>TOP</td>\n",
              "      <td>Kalista</td>\n",
              "      <td>red</td>\n",
              "    </tr>\n",
              "    <tr>\n",
              "      <th>4</th>\n",
              "      <td>False</td>\n",
              "      <td>3153</td>\n",
              "      <td>1053</td>\n",
              "      <td>3006</td>\n",
              "      <td>1055</td>\n",
              "      <td>1038</td>\n",
              "      <td>3085</td>\n",
              "      <td>3340</td>\n",
              "      <td>3</td>\n",
              "      <td>8</td>\n",
              "      <td>1</td>\n",
              "      <td>2</td>\n",
              "      <td>1</td>\n",
              "      <td>1</td>\n",
              "      <td>431</td>\n",
              "      <td>0</td>\n",
              "      <td>0</td>\n",
              "      <td>0</td>\n",
              "      <td>0</td>\n",
              "      <td>0</td>\n",
              "      <td>129892</td>\n",
              "      <td>654</td>\n",
              "      <td>128277</td>\n",
              "      <td>960</td>\n",
              "      <td>364</td>\n",
              "      <td>15788</td>\n",
              "      <td>654</td>\n",
              "      <td>14581</td>\n",
              "      <td>552</td>\n",
              "      <td>2346</td>\n",
              "      <td>1</td>\n",
              "      <td>12314</td>\n",
              "      <td>6401</td>\n",
              "      <td>5355</td>\n",
              "      <td>26</td>\n",
              "      <td>12</td>\n",
              "      <td>19128</td>\n",
              "      <td>8292</td>\n",
              "      <td>9737</td>\n",
              "      <td>1098</td>\n",
              "      <td>...</td>\n",
              "      <td>8120</td>\n",
              "      <td>2</td>\n",
              "      <td>9</td>\n",
              "      <td>6</td>\n",
              "      <td>8135</td>\n",
              "      <td>846</td>\n",
              "      <td>3</td>\n",
              "      <td>0</td>\n",
              "      <td>9101</td>\n",
              "      <td>1959</td>\n",
              "      <td>2928</td>\n",
              "      <td>0</td>\n",
              "      <td>9104</td>\n",
              "      <td>20</td>\n",
              "      <td>40</td>\n",
              "      <td>0</td>\n",
              "      <td>8100</td>\n",
              "      <td>8000</td>\n",
              "      <td>5005</td>\n",
              "      <td>5008</td>\n",
              "      <td>5003</td>\n",
              "      <td>3</td>\n",
              "      <td>8.7</td>\n",
              "      <td>8.0</td>\n",
              "      <td>494.3</td>\n",
              "      <td>436.8</td>\n",
              "      <td>525.8</td>\n",
              "      <td>306.0</td>\n",
              "      <td>NaN</td>\n",
              "      <td>NaN</td>\n",
              "      <td>NaN</td>\n",
              "      <td>NaN</td>\n",
              "      <td>1035.6</td>\n",
              "      <td>404.8</td>\n",
              "      <td>NaN</td>\n",
              "      <td>NaN</td>\n",
              "      <td>SOLO</td>\n",
              "      <td>TOP</td>\n",
              "      <td>Kalista</td>\n",
              "      <td>blue</td>\n",
              "    </tr>\n",
              "  </tbody>\n",
              "</table>\n",
              "<p>5 rows × 122 columns</p>\n",
              "</div>"
            ],
            "text/plain": [
              "     win  item0  item1  item2  ...  role    lane  champion_name  team_color\n",
              "0  False   3153   3085   3006  ...  SOLO     TOP        Kalista         red\n",
              "1  False   2055   3046   3065  ...   DUO  MIDDLE         Graves         red\n",
              "2  False   2055   3812   3047  ...  SOLO     TOP         Graves         red\n",
              "3   True   3153   3033   1055  ...  SOLO     TOP        Kalista         red\n",
              "4  False   3153   1053   3006  ...  SOLO     TOP        Kalista        blue\n",
              "\n",
              "[5 rows x 122 columns]"
            ]
          },
          "metadata": {
            "tags": []
          },
          "execution_count": 56
        }
      ]
    },
    {
      "cell_type": "markdown",
      "metadata": {
        "id": "uNx9vAGz-JhA",
        "colab_type": "text"
      },
      "source": [
        "# Machine Learning Analysis"
      ]
    },
    {
      "cell_type": "markdown",
      "metadata": {
        "id": "daP3FgET-Wvo",
        "colab_type": "text"
      },
      "source": [
        "## Simple Linear Regression on damage taken vs. damage on other champions"
      ]
    },
    {
      "cell_type": "code",
      "metadata": {
        "id": "083I5UBr-TPx",
        "colab_type": "code",
        "outputId": "dbad303c-ff86-4466-dd93-61a5ff0688c5",
        "colab": {
          "base_uri": "https://localhost:8080/",
          "height": 297
        }
      },
      "source": [
        "X_train = df_gs[['totalDamageTaken']]  \n",
        "y_train = df_gs['totalDamageDealtToChampions']\n",
        "\n",
        "model = LinearRegression()\n",
        "model.fit(X=X_train, y=y_train)\n",
        "\n",
        "X_new = pd.DataFrame()\n",
        "X_new[\"totalDamageTaken\"] = np.linspace(3000,80000,num = 50)\n",
        "\n",
        "y_new_ = pd.Series(\n",
        "    model.predict(X_new),\n",
        "    index=X_new[\"totalDamageTaken\"]\n",
        ")\n",
        "\n",
        "df_gs.plot.scatter(x=\"totalDamageTaken\", y=\"totalDamageDealtToChampions\")\n",
        "y_new_.plot.line(c = 'red')"
      ],
      "execution_count": 0,
      "outputs": [
        {
          "output_type": "execute_result",
          "data": {
            "text/plain": [
              "<matplotlib.axes._subplots.AxesSubplot at 0x7f22d67e5d68>"
            ]
          },
          "metadata": {
            "tags": []
          },
          "execution_count": 57
        },
        {
          "output_type": "display_data",
          "data": {
            "image/png": "[encoded data removed]",
            "text/plain": [
              "<Figure size 432x288 with 1 Axes>"
            ]
          },
          "metadata": {
            "tags": []
          }
        }
      ]
    },
    {
      "cell_type": "code",
      "metadata": {
        "id": "Sqy2gQ0KI7bx",
        "colab_type": "code",
        "outputId": "9e8b3a13-4e2c-4cfe-bc66-48e9e971f421",
        "colab": {
          "base_uri": "https://localhost:8080/",
          "height": 35
        }
      },
      "source": [
        "model.score(X=X_train,y=y_train)"
      ],
      "execution_count": 0,
      "outputs": [
        {
          "output_type": "execute_result",
          "data": {
            "text/plain": [
              "0.3530405561675627"
            ]
          },
          "metadata": {
            "tags": []
          },
          "execution_count": 58
        }
      ]
    },
    {
      "cell_type": "code",
      "metadata": {
        "id": "tJWmgluC-1hD",
        "colab_type": "code",
        "outputId": "152b000c-f0c3-438b-9537-d91ae2ceaa91",
        "colab": {
          "base_uri": "https://localhost:8080/",
          "height": 35
        }
      },
      "source": [
        "scores = -cross_val_score(model, \n",
        "                         X=X_train,\n",
        "                         y=y_train,\n",
        "                         scoring=\"neg_mean_squared_error\",\n",
        "                         cv=10)\n",
        "np.sqrt(scores.mean())"
      ],
      "execution_count": 0,
      "outputs": [
        {
          "output_type": "execute_result",
          "data": {
            "text/plain": [
              "8668.7789915207"
            ]
          },
          "metadata": {
            "tags": []
          },
          "execution_count": 59
        }
      ]
    },
    {
      "cell_type": "markdown",
      "metadata": {
        "id": "-447hBoA_G8A",
        "colab_type": "text"
      },
      "source": [
        "## Predicting Win Probability using Pre-match Attributes"
      ]
    },
    {
      "cell_type": "code",
      "metadata": {
        "id": "5cBRhSjZ--53",
        "colab_type": "code",
        "outputId": "40494b92-a969-48d8-d62f-8d2556a8ba7f",
        "colab": {
          "base_uri": "https://localhost:8080/",
          "height": 417
        }
      },
      "source": [
        "X_train = df_gs[['champion_name',\n",
        "                 'role',\n",
        "                 'lane']].fillna('none')       \n",
        "y_train = df_gs['win'].fillna('none')\n",
        "\n",
        "pipeline = make_pipeline(make_column_transformer(\n",
        "    (OneHotEncoder(handle_unknown='ignore'), ['champion_name','role','lane'])),\n",
        "    StandardScaler(with_mean=False),\n",
        "    KNeighborsClassifier(n_neighbors=10)\n",
        ")\n",
        "\n",
        "pipeline.fit(X = X_train, y = y_train)"
      ],
      "execution_count": 0,
      "outputs": [
        {
          "output_type": "execute_result",
          "data": {
            "text/plain": [
              "Pipeline(memory=None,\n",
              "         steps=[('columntransformer',\n",
              "                 ColumnTransformer(n_jobs=None, remainder='drop',\n",
              "                                   sparse_threshold=0.3,\n",
              "                                   transformer_weights=None,\n",
              "                                   transformers=[('onehotencoder',\n",
              "                                                  OneHotEncoder(categories='auto',\n",
              "                                                                drop=None,\n",
              "                                                                dtype=<class 'numpy.float64'>,\n",
              "                                                                handle_unknown='ignore',\n",
              "                                                                sparse=True),\n",
              "                                                  ['champion_name', 'role',\n",
              "                                                   'lane'])],\n",
              "                                   verbose=False)),\n",
              "                ('standardscaler',\n",
              "                 StandardScaler(copy=True, with_mean=False, with_std=True)),\n",
              "                ('kneighborsclassifier',\n",
              "                 KNeighborsClassifier(algorithm='auto', leaf_size=30,\n",
              "                                      metric='minkowski', metric_params=None,\n",
              "                                      n_jobs=None, n_neighbors=10, p=2,\n",
              "                                      weights='uniform'))],\n",
              "         verbose=False)"
            ]
          },
          "metadata": {
            "tags": []
          },
          "execution_count": 60
        }
      ]
    },
    {
      "cell_type": "code",
      "metadata": {
        "id": "Nvhd01Nl_U48",
        "colab_type": "code",
        "outputId": "60a24c34-0854-4187-dd8f-dddd18d1b899",
        "colab": {
          "base_uri": "https://localhost:8080/",
          "height": 81
        }
      },
      "source": [
        "test1 = pd.DataFrame({\n",
        "    'champion_name':[most_used_champ],\n",
        "    'role':[most_used_role],\n",
        "    'lane':[most_used_lane]\n",
        "})\n",
        "test1"
      ],
      "execution_count": 0,
      "outputs": [
        {
          "output_type": "execute_result",
          "data": {
            "text/html": [
              "<div>\n",
              "<style scoped>\n",
              "    .dataframe tbody tr th:only-of-type {\n",
              "        vertical-align: middle;\n",
              "    }\n",
              "\n",
              "    .dataframe tbody tr th {\n",
              "        vertical-align: top;\n",
              "    }\n",
              "\n",
              "    .dataframe thead th {\n",
              "        text-align: right;\n",
              "    }\n",
              "</style>\n",
              "<table border=\"1\" class=\"dataframe\">\n",
              "  <thead>\n",
              "    <tr style=\"text-align: right;\">\n",
              "      <th></th>\n",
              "      <th>champion_name</th>\n",
              "      <th>role</th>\n",
              "      <th>lane</th>\n",
              "    </tr>\n",
              "  </thead>\n",
              "  <tbody>\n",
              "    <tr>\n",
              "      <th>0</th>\n",
              "      <td>Kalista</td>\n",
              "      <td>SOLO</td>\n",
              "      <td>TOP</td>\n",
              "    </tr>\n",
              "  </tbody>\n",
              "</table>\n",
              "</div>"
            ],
            "text/plain": [
              "  champion_name  role lane\n",
              "0       Kalista  SOLO  TOP"
            ]
          },
          "metadata": {
            "tags": []
          },
          "execution_count": 61
        }
      ]
    },
    {
      "cell_type": "code",
      "metadata": {
        "id": "Ux5IL_t2_XZY",
        "colab_type": "code",
        "outputId": "ecd9b1df-fdfd-4663-d2eb-2d4f21c19c89",
        "colab": {
          "base_uri": "https://localhost:8080/",
          "height": 35
        }
      },
      "source": [
        "pipeline.predict_proba(test1)"
      ],
      "execution_count": 0,
      "outputs": [
        {
          "output_type": "execute_result",
          "data": {
            "text/plain": [
              "array([[0.6, 0.4]])"
            ]
          },
          "metadata": {
            "tags": []
          },
          "execution_count": 62
        }
      ]
    },
    {
      "cell_type": "markdown",
      "metadata": {
        "id": "J3LldBVO_caE",
        "colab_type": "text"
      },
      "source": [
        "We are able to setup a k-nearest neighbors classifier that predicts game outcome from pre-match attributes. Using our most used champion, role, and lane from our collected data of 100 matches, we predict to have a 60% chance of winning and 40% chance of losing a match. "
      ]
    },
    {
      "cell_type": "code",
      "metadata": {
        "id": "ZQQfggwtAgy4",
        "colab_type": "code",
        "outputId": "231d2153-2a44-41e5-84b8-761c1dbe172b",
        "colab": {
          "base_uri": "https://localhost:8080/",
          "height": 35
        }
      },
      "source": [
        "is_win = (y_train == True)\n",
        "\n",
        "accuracy_scores = cross_val_score(pipeline, X_train, y_train, \n",
        "                            cv=10, scoring=\"accuracy\")\n",
        "\n",
        "precision_scores = cross_val_score(pipeline, X_train, is_win, \n",
        "                cv=10, scoring=\"precision\")\n",
        "\n",
        "recall_scores = cross_val_score(pipeline, X_train, is_win, \n",
        "                cv=10, scoring=\"recall\")\n",
        "\n",
        "accuracy_scores.mean(), precision_scores.mean(), recall_scores.mean()"
      ],
      "execution_count": 0,
      "outputs": [
        {
          "output_type": "execute_result",
          "data": {
            "text/plain": [
              "(0.5299999999999999, 0.5916666666666666, 0.36333333333333334)"
            ]
          },
          "metadata": {
            "tags": []
          },
          "execution_count": 63
        }
      ]
    },
    {
      "cell_type": "markdown",
      "metadata": {
        "id": "xIA5xwOPAkM_",
        "colab_type": "text"
      },
      "source": [
        "However, our model is not a good predictor of game outcome. Calculating our model accuracy, precision, and recall, we see that the pre-game decisions are not the best for determining whether you'll win or lose a match. "
      ]
    },
    {
      "cell_type": "markdown",
      "metadata": {
        "id": "Ln9-Eo6LNGyK",
        "colab_type": "text"
      },
      "source": [
        "# Analysis on Match Timeline Data"
      ]
    },
    {
      "cell_type": "code",
      "metadata": {
        "id": "SDD1IUrSH2hU",
        "colab_type": "code",
        "colab": {}
      },
      "source": [
        "def get_player_data(key,summoner_name,game_type):\n",
        "  #\n",
        "  # creating then getting summoners encrypted account Id\n",
        "  #\n",
        "  frst_link=\"https://na1.api.riotgames.com/lol/summoner/v4/summoners/by-name/%s?api_key=%s\"%(summoner_name,key)\n",
        "  response = requests.get(frst_link)\n",
        "  encrypt_id = response.json()[\"accountId\"]\n",
        "  time.sleep(1.5)\n",
        "  #\n",
        "  # creating then getting the past 100 matches from the summoner\n",
        "  #\n",
        "  matches_link = \"https://na1.api.riotgames.com/lol/match/v4/matchlists/by-account/%s?api_key=%s\" % (encrypt_id,key)\n",
        "  match_resp = requests.get(matches_link)\n",
        "  #\n",
        "  # quickly retrieving the queue codes\n",
        "  #\n",
        "  que_resp = requests.get(\"http://static.developer.riotgames.com/docs/lol/queues.json\")\n",
        "  df_queId = json_normalize(que_resp.json())\n",
        "  df_matchlist = json_normalize(match_resp.json()[\"matches\"])\n",
        "  #\n",
        "  # merging queue codes and the matches\n",
        "  #\n",
        "  df_matches = df_matchlist.merge(df_queId, \n",
        "                   left_on = \"queue\",\n",
        "                   right_on = \"queueId\",\n",
        "                   how = \"left\").drop(columns = [\"queue\"])\n",
        "  # \n",
        "  # Filtering by the selected match type\n",
        "  #\n",
        "  df_game_types = df_matches[df_matches[\"description\"] == game_type]\n",
        "  df_summoner_final = pd.DataFrame()\n",
        "  for g_id in df_game_types[\"gameId\"].astype(str):\n",
        "    df_game = get_game_data(g_id,key,summoner_name)\n",
        "    df_summoner_final = pd.concat([df_game,df_summoner_final], sort=False)\n",
        "  # return it boy\n",
        "  return df_summoner_final\n"
      ],
      "execution_count": 0,
      "outputs": []
    },
    {
      "cell_type": "code",
      "metadata": {
        "id": "HFDI8PKyLpsa",
        "colab_type": "code",
        "colab": {}
      },
      "source": [
        "def get_game_data(game_id,key,name):\n",
        "  #\n",
        "  # Creating then getting the infromation for kills and objects dataframes\n",
        "  #\n",
        "  time.sleep(1.5)\n",
        "  game_link = \"https://na1.api.riotgames.com/lol/match/v4/matches/%s?api_key=%s\" % (game_id, key)\n",
        "  game_resp = requests.get(game_link)\n",
        "  no_turrets = json_normalize(game_resp.json()[\"teams\"])[\"towerKills\"].sum()\n",
        "  if no_turrets == 0:\n",
        "    return pd.DataFrame()\n",
        "  #\n",
        "  # getting participantId, teamId, team_win\n",
        "  #\n",
        "  df_getting_Id = json_normalize(game_resp.json()[\"participantIdentities\"])\n",
        "  participant_id = str(df_getting_Id[df_getting_Id[\"player.summonerName\"]==name][\"participantId\"].iloc[0])\n",
        "  team_id = json_normalize(game_resp.json()[\"participants\"][int(participant_id) - 1])[\"teamId\"][0]\n",
        "  team_win = json_normalize(game_resp.json()[\"participants\"][int(participant_id) - 1])[\"stats.win\"][0]\n",
        "  #\n",
        "  # creating the timeline of events dataset\n",
        "  #\n",
        "  time.sleep(1.5)\n",
        "  time_link = \"https://na1.api.riotgames.com/lol/match/v4/timelines/by-match/%s?api_key=%s\" % (game_id, key)\n",
        "  time_resp = requests.get(time_link)\n",
        "  df_timeline = json_normalize(time_resp.json()[\"frames\"],\"events\")\n",
        "  #\n",
        "  # getting kills and objectives data and merging together\n",
        "  #\n",
        "  df_ks = get_kill_level(df_timeline,participant_id)\n",
        "  if len(df_ks) == 0:\n",
        "    remake = True\n",
        "  else:\n",
        "    remake = False\n",
        "  df_game_final = get_w_objectives(df_timeline,df_ks,team_id,team_win,remake)\n",
        "  df_game_final[\"game_id\"] = game_id\n",
        "  return df_game_final\n"
      ],
      "execution_count": 0,
      "outputs": []
    },
    {
      "cell_type": "code",
      "metadata": {
        "id": "T2NVBQmnLrTH",
        "colab_type": "code",
        "colab": {}
      },
      "source": [
        "def get_kill_level(df_timeline,player_id):\n",
        "  #\n",
        "  # getting kills and leveling up events for the summoner specifically\n",
        "  #\n",
        "  df_events = df_timeline[df_timeline[\"type\"].isin([\"CHAMPION_KILL\",\n",
        "                                                  \"SKILL_LEVEL_UP\"])][[ \"type\",\n",
        "                                                                        \"participantId\",\n",
        "                                                                        \"timestamp\",\n",
        "                                                                        \"killerId\",\n",
        "                                                                        \"victimId\",\n",
        "                                                                        \"assistingParticipantIds\",\n",
        "                                                                        \"position.x\",\n",
        "                                                                        \"position.y\"]].astype(str).reset_index().drop(columns=[\"index\"])\n",
        "  did_assist = pd.Series([player_id in r[0] for r in zip(df_events[\"assistingParticipantIds\"])])\n",
        "  df_events[\"did_assist\"] = did_assist\n",
        "  df = df_events[(df_events[\"killerId\"] == str(float(player_id))) | \n",
        "               (df_events[\"victimId\"] == str(float(player_id))) |\n",
        "               (df_events[\"participantId\"] == str(float(player_id))) |\n",
        "               (df_events[\"did_assist\"])]\n",
        "  df[\"kill\"] = (df[\"killerId\"] == str(float(player_id)))\n",
        "  df[\"death\"] = (df[\"victimId\"] == str(float(player_id)))\n",
        "  df[\"level_up\"] = (df[\"type\"] == \"SKILL_LEVEL_UP\")\n",
        "  df[\"kill\"] = df[\"kill\"].map({\n",
        "      True : 1,\n",
        "      False: 0 })\n",
        "  df[\"death\"] = df[\"death\"].map({\n",
        "      True : 1,\n",
        "      False: 0 })\n",
        "  df[\"assist\"] = df[\"did_assist\"].map({\n",
        "      True : 1,\n",
        "      False: 0 })\n",
        "  df[\"level_up\"] = df[\"level_up\"].map({\n",
        "      True : 1,\n",
        "      False: 0 })\n",
        "  df[\"kill_assisting\"] = df[\"assistingParticipantIds\"].str.replace(\n",
        "                                \"nan\",\"[]\"\n",
        "                            ).str.replace(\n",
        "                                \", \", \"\"\n",
        "                            ).str.replace(\n",
        "                                \"0\", \"\"\n",
        "                            ).str.len() - 1\n",
        "  df_kills = df.reset_index().drop(columns=[\"participantId\",\"killerId\",\"victimId\",\n",
        "                                          \"assistingParticipantIds\",\n",
        "                                          \"did_assist\", \"index\"])\n",
        "  return df_kills"
      ],
      "execution_count": 0,
      "outputs": []
    },
    {
      "cell_type": "code",
      "metadata": {
        "id": "NwMVkn0HLxH8",
        "colab_type": "code",
        "colab": {}
      },
      "source": [
        "def get_w_objectives(df_timeline, df_kills, team_id, team_win, remake):\n",
        "  if remake:\n",
        "    return pd.DataFrame()\n",
        "  #\n",
        "  # getting objectives then merging it with the kills dataframe\n",
        "  #\n",
        "  df_obj = df_timeline[df_timeline[\"type\"].isin([\"BUILDING_KILL\",\n",
        "                                               \"ELITE_MONSTER_KILL\"])][[\"type\",\n",
        "                                                                        \"timestamp\",\n",
        "                                                                        \"killerId\",\n",
        "                                                                        \"assistingParticipantIds\",\n",
        "                                                                        \"teamId\",\n",
        "                                                                        \"position.x\",\n",
        "                                                                        \"position.y\",\n",
        "                                                                        \"buildingType\",\n",
        "                                                                        \"laneType\",\n",
        "                                                                        \"towerType\",]].astype(str).reset_index().drop(columns=[\"index\"])\n",
        "  if float(team_id) == 200.0:\n",
        "    teammates = [\"1.0\",\"2.0\",\"3.0\",\"4.0\",\"5.0\"]\n",
        "  else:\n",
        "    teammates = [\"6.0\",\"7.0\",\"8.0\",\"9.0\",\"10.0\"]\n",
        "  df_objectives = df_obj[(df_obj[\"teamId\"] == team_id) | \n",
        "               (df_obj[\"killerId\"].isin(teammates))]\n",
        "  df_objectives[\"tower_assisting\"] = df_obj[\"assistingParticipantIds\"].str.replace(\n",
        "                                \"nan\",\"[]\"\n",
        "                            ).str.replace(\n",
        "                                \", \", \"\"\n",
        "                            ).str.replace(\n",
        "                                \"0\", \"\"\n",
        "                            ).str.len() - 1\n",
        "  df_objectives[\"tower_kill\"] = df_objectives[\"type\"] == \"BUILDING_KILL\"\n",
        "  df_objectives[\"tower_kill\"] = df_objectives[\"tower_kill\"].map({\n",
        "      True: 1,\n",
        "      False: 0\n",
        "  })\n",
        "  df_final = df_objectives.merge(df_kills, how = \"outer\")\n",
        "  df_final[\"minute\"] = (df_final[\"timestamp\"].astype(float) / 60000)\n",
        "  df_final = df_final.sort_values(by=[\"minute\"]\n",
        "              ).reset_index().drop(columns = [\"index\"]\n",
        "              ).drop(columns = [\"killerId\",\"teamId\",\"assistingParticipantIds\"])\n",
        "  df_final[\"position.x\"] = df_final[\"position.x\"].astype(float)\n",
        "  df_final[\"position.y\"] = df_final[\"position.y\"].astype(float)\n",
        "  df_final[\"timestamp\"] = df_final[\"timestamp\"].astype(float)\n",
        "  df_final[\"towerType\"] = df_final[\"towerType\"].fillna(\"nan\")\n",
        "  df_final[\"buildingType\"] = df_final[\"buildingType\"].fillna(\"nan\")\n",
        "  df_final[\"laneType\"] = df_final[\"laneType\"].fillna(\"nan\")\n",
        "  df_final[\"tower_kill\"] = df_final[\"tower_kill\"].fillna(0)\n",
        "  df_final[\"tower_assisting\"] = df_final[\"tower_assisting\"].fillna(0)\n",
        "  df_final[\"kill\"] = df_final[\"kill\"].fillna(0)\n",
        "  df_final[\"death\"] = df_final[\"death\"].fillna(0)\n",
        "  df_final[\"assist\"] = df_final[\"assist\"].fillna(0)\n",
        "  df_final[\"kill_assisting\"] = df_final[\"kill_assisting\"].fillna(0)\n",
        "  df_final[\"level_up\"] = df_final[\"level_up\"].fillna(0)\n",
        "  # Adding up for the times\n",
        "  df_final[\"kills\"] = df_final[\"kill\"].cumsum()\n",
        "  df_final[\"deaths\"] = df_final[\"death\"].cumsum()\n",
        "  df_final[\"assists\"] = df_final[\"assist\"].cumsum()\n",
        "  df_final[\"level\"] = df_final[\"level_up\"].cumsum() + 1\n",
        "  df_final[\"kill_participation\"] = df_final[\"kill_assisting\"].cumsum()\n",
        "  df_final[\"tower_kills\"] = df_final[\"tower_kill\"].cumsum()\n",
        "  df_final[\"team_participation\"] = df_final[\"tower_assisting\"].cumsum()\n",
        "  if team_win:\n",
        "    df_final[\"win\"] = 1\n",
        "  else:\n",
        "    df_final[\"win\"] = 0 \n",
        "  return df_final"
      ],
      "execution_count": 0,
      "outputs": []
    },
    {
      "cell_type": "markdown",
      "metadata": {
        "id": "hNkIlcFdL7xw",
        "colab_type": "text"
      },
      "source": [
        "# Getting in the Data of Me, Friend, and Gbay\n",
        "\n",
        "**My data will be on a specific Game mode called URF**\n",
        "\n",
        "**Friend's Nick data will be on ranked games**\n",
        "\n",
        "**Gbay is a famous league of legends youtuber and it will also be on ranked games**"
      ]
    },
    {
      "cell_type": "code",
      "metadata": {
        "id": "QCITeb-ZL1UE",
        "colab_type": "code",
        "outputId": "9cb5725b-4a0f-4254-a98a-d9ac6a2b1162",
        "colab": {
          "base_uri": "https://localhost:8080/",
          "height": 1000
        }
      },
      "source": [
        "# reading in my URF data\n",
        "ky = \"RGAPI-3caeba99-f865-41db-aa31-eef435377e33\"\n",
        "name = \"DODEisBOSS\"\n",
        "game = \"URF games\"\n",
        "df_dode_urf = get_player_data(ky,name,game)"
      ],
      "execution_count": 0,
      "outputs": [
        {
          "output_type": "stream",
          "text": [
            "/usr/local/lib/python3.6/dist-packages/ipykernel_launcher.py:20: SettingWithCopyWarning: \n",
            "A value is trying to be set on a copy of a slice from a DataFrame.\n",
            "Try using .loc[row_indexer,col_indexer] = value instead\n",
            "\n",
            "See the caveats in the documentation: http://pandas.pydata.org/pandas-docs/stable/user_guide/indexing.html#returning-a-view-versus-a-copy\n",
            "/usr/local/lib/python3.6/dist-packages/ipykernel_launcher.py:21: SettingWithCopyWarning: \n",
            "A value is trying to be set on a copy of a slice from a DataFrame.\n",
            "Try using .loc[row_indexer,col_indexer] = value instead\n",
            "\n",
            "See the caveats in the documentation: http://pandas.pydata.org/pandas-docs/stable/user_guide/indexing.html#returning-a-view-versus-a-copy\n",
            "/usr/local/lib/python3.6/dist-packages/ipykernel_launcher.py:22: SettingWithCopyWarning: \n",
            "A value is trying to be set on a copy of a slice from a DataFrame.\n",
            "Try using .loc[row_indexer,col_indexer] = value instead\n",
            "\n",
            "See the caveats in the documentation: http://pandas.pydata.org/pandas-docs/stable/user_guide/indexing.html#returning-a-view-versus-a-copy\n",
            "/usr/local/lib/python3.6/dist-packages/ipykernel_launcher.py:25: SettingWithCopyWarning: \n",
            "A value is trying to be set on a copy of a slice from a DataFrame.\n",
            "Try using .loc[row_indexer,col_indexer] = value instead\n",
            "\n",
            "See the caveats in the documentation: http://pandas.pydata.org/pandas-docs/stable/user_guide/indexing.html#returning-a-view-versus-a-copy\n",
            "/usr/local/lib/python3.6/dist-packages/ipykernel_launcher.py:28: SettingWithCopyWarning: \n",
            "A value is trying to be set on a copy of a slice from a DataFrame.\n",
            "Try using .loc[row_indexer,col_indexer] = value instead\n",
            "\n",
            "See the caveats in the documentation: http://pandas.pydata.org/pandas-docs/stable/user_guide/indexing.html#returning-a-view-versus-a-copy\n",
            "/usr/local/lib/python3.6/dist-packages/ipykernel_launcher.py:31: SettingWithCopyWarning: \n",
            "A value is trying to be set on a copy of a slice from a DataFrame.\n",
            "Try using .loc[row_indexer,col_indexer] = value instead\n",
            "\n",
            "See the caveats in the documentation: http://pandas.pydata.org/pandas-docs/stable/user_guide/indexing.html#returning-a-view-versus-a-copy\n",
            "/usr/local/lib/python3.6/dist-packages/ipykernel_launcher.py:34: SettingWithCopyWarning: \n",
            "A value is trying to be set on a copy of a slice from a DataFrame.\n",
            "Try using .loc[row_indexer,col_indexer] = value instead\n",
            "\n",
            "See the caveats in the documentation: http://pandas.pydata.org/pandas-docs/stable/user_guide/indexing.html#returning-a-view-versus-a-copy\n",
            "/usr/local/lib/python3.6/dist-packages/ipykernel_launcher.py:41: SettingWithCopyWarning: \n",
            "A value is trying to be set on a copy of a slice from a DataFrame.\n",
            "Try using .loc[row_indexer,col_indexer] = value instead\n",
            "\n",
            "See the caveats in the documentation: http://pandas.pydata.org/pandas-docs/stable/user_guide/indexing.html#returning-a-view-versus-a-copy\n",
            "/usr/local/lib/python3.6/dist-packages/ipykernel_launcher.py:30: SettingWithCopyWarning: \n",
            "A value is trying to be set on a copy of a slice from a DataFrame.\n",
            "Try using .loc[row_indexer,col_indexer] = value instead\n",
            "\n",
            "See the caveats in the documentation: http://pandas.pydata.org/pandas-docs/stable/user_guide/indexing.html#returning-a-view-versus-a-copy\n"
          ],
          "name": "stderr"
        },
        {
          "output_type": "error",
          "ename": "KeyError",
          "evalue": "ignored",
          "traceback": [
            "\u001b[0;31m---------------------------------------------------------------------------\u001b[0m",
            "\u001b[0;31mKeyError\u001b[0m                                  Traceback (most recent call last)",
            "\u001b[0;32m<ipython-input-68-ca1d6cacd37d>\u001b[0m in \u001b[0;36m<module>\u001b[0;34m()\u001b[0m\n\u001b[1;32m      2\u001b[0m \u001b[0mname\u001b[0m \u001b[0;34m=\u001b[0m \u001b[0;34m\"DODEisBOSS\"\u001b[0m\u001b[0;34m\u001b[0m\u001b[0;34m\u001b[0m\u001b[0m\n\u001b[1;32m      3\u001b[0m \u001b[0mgame\u001b[0m \u001b[0;34m=\u001b[0m \u001b[0;34m\"URF games\"\u001b[0m\u001b[0;34m\u001b[0m\u001b[0;34m\u001b[0m\u001b[0m\n\u001b[0;32m----> 4\u001b[0;31m \u001b[0mdf_dode_urf\u001b[0m \u001b[0;34m=\u001b[0m \u001b[0mget_player_data\u001b[0m\u001b[0;34m(\u001b[0m\u001b[0mky\u001b[0m\u001b[0;34m,\u001b[0m\u001b[0mname\u001b[0m\u001b[0;34m,\u001b[0m\u001b[0mgame\u001b[0m\u001b[0;34m)\u001b[0m\u001b[0;34m\u001b[0m\u001b[0;34m\u001b[0m\u001b[0m\n\u001b[0m",
            "\u001b[0;32m<ipython-input-64-93213d2c0c00>\u001b[0m in \u001b[0;36mget_player_data\u001b[0;34m(key, summoner_name, game_type)\u001b[0m\n\u001b[1;32m     31\u001b[0m   \u001b[0mdf_summoner_final\u001b[0m \u001b[0;34m=\u001b[0m \u001b[0mpd\u001b[0m\u001b[0;34m.\u001b[0m\u001b[0mDataFrame\u001b[0m\u001b[0;34m(\u001b[0m\u001b[0;34m)\u001b[0m\u001b[0;34m\u001b[0m\u001b[0;34m\u001b[0m\u001b[0m\n\u001b[1;32m     32\u001b[0m   \u001b[0;32mfor\u001b[0m \u001b[0mg_id\u001b[0m \u001b[0;32min\u001b[0m \u001b[0mdf_game_types\u001b[0m\u001b[0;34m[\u001b[0m\u001b[0;34m\"gameId\"\u001b[0m\u001b[0;34m]\u001b[0m\u001b[0;34m.\u001b[0m\u001b[0mastype\u001b[0m\u001b[0;34m(\u001b[0m\u001b[0mstr\u001b[0m\u001b[0;34m)\u001b[0m\u001b[0;34m:\u001b[0m\u001b[0;34m\u001b[0m\u001b[0;34m\u001b[0m\u001b[0m\n\u001b[0;32m---> 33\u001b[0;31m     \u001b[0mdf_game\u001b[0m \u001b[0;34m=\u001b[0m \u001b[0mget_game_data\u001b[0m\u001b[0;34m(\u001b[0m\u001b[0mg_id\u001b[0m\u001b[0;34m,\u001b[0m\u001b[0mkey\u001b[0m\u001b[0;34m,\u001b[0m\u001b[0msummoner_name\u001b[0m\u001b[0;34m)\u001b[0m\u001b[0;34m\u001b[0m\u001b[0;34m\u001b[0m\u001b[0m\n\u001b[0m\u001b[1;32m     34\u001b[0m     \u001b[0mdf_summoner_final\u001b[0m \u001b[0;34m=\u001b[0m \u001b[0mpd\u001b[0m\u001b[0;34m.\u001b[0m\u001b[0mconcat\u001b[0m\u001b[0;34m(\u001b[0m\u001b[0;34m[\u001b[0m\u001b[0mdf_game\u001b[0m\u001b[0;34m,\u001b[0m\u001b[0mdf_summoner_final\u001b[0m\u001b[0;34m]\u001b[0m\u001b[0;34m,\u001b[0m \u001b[0msort\u001b[0m\u001b[0;34m=\u001b[0m\u001b[0;32mFalse\u001b[0m\u001b[0;34m)\u001b[0m\u001b[0;34m\u001b[0m\u001b[0;34m\u001b[0m\u001b[0m\n\u001b[1;32m     35\u001b[0m   \u001b[0;31m# return it boy\u001b[0m\u001b[0;34m\u001b[0m\u001b[0;34m\u001b[0m\u001b[0;34m\u001b[0m\u001b[0m\n",
            "\u001b[0;32m<ipython-input-65-6a460cbc8484>\u001b[0m in \u001b[0;36mget_game_data\u001b[0;34m(game_id, key, name)\u001b[0m\n\u001b[1;32m      6\u001b[0m   \u001b[0mgame_link\u001b[0m \u001b[0;34m=\u001b[0m \u001b[0;34m\"https://na1.api.riotgames.com/lol/match/v4/matches/%s?api_key=%s\"\u001b[0m \u001b[0;34m%\u001b[0m \u001b[0;34m(\u001b[0m\u001b[0mgame_id\u001b[0m\u001b[0;34m,\u001b[0m \u001b[0mkey\u001b[0m\u001b[0;34m)\u001b[0m\u001b[0;34m\u001b[0m\u001b[0;34m\u001b[0m\u001b[0m\n\u001b[1;32m      7\u001b[0m   \u001b[0mgame_resp\u001b[0m \u001b[0;34m=\u001b[0m \u001b[0mrequests\u001b[0m\u001b[0;34m.\u001b[0m\u001b[0mget\u001b[0m\u001b[0;34m(\u001b[0m\u001b[0mgame_link\u001b[0m\u001b[0;34m)\u001b[0m\u001b[0;34m\u001b[0m\u001b[0;34m\u001b[0m\u001b[0m\n\u001b[0;32m----> 8\u001b[0;31m   \u001b[0mno_turrets\u001b[0m \u001b[0;34m=\u001b[0m \u001b[0mjson_normalize\u001b[0m\u001b[0;34m(\u001b[0m\u001b[0mgame_resp\u001b[0m\u001b[0;34m.\u001b[0m\u001b[0mjson\u001b[0m\u001b[0;34m(\u001b[0m\u001b[0;34m)\u001b[0m\u001b[0;34m[\u001b[0m\u001b[0;34m\"teams\"\u001b[0m\u001b[0;34m]\u001b[0m\u001b[0;34m)\u001b[0m\u001b[0;34m[\u001b[0m\u001b[0;34m\"towerKills\"\u001b[0m\u001b[0;34m]\u001b[0m\u001b[0;34m.\u001b[0m\u001b[0msum\u001b[0m\u001b[0;34m(\u001b[0m\u001b[0;34m)\u001b[0m\u001b[0;34m\u001b[0m\u001b[0;34m\u001b[0m\u001b[0m\n\u001b[0m\u001b[1;32m      9\u001b[0m   \u001b[0;32mif\u001b[0m \u001b[0mno_turrets\u001b[0m \u001b[0;34m==\u001b[0m \u001b[0;36m0\u001b[0m\u001b[0;34m:\u001b[0m\u001b[0;34m\u001b[0m\u001b[0;34m\u001b[0m\u001b[0m\n\u001b[1;32m     10\u001b[0m     \u001b[0;32mreturn\u001b[0m \u001b[0mpd\u001b[0m\u001b[0;34m.\u001b[0m\u001b[0mDataFrame\u001b[0m\u001b[0;34m(\u001b[0m\u001b[0;34m)\u001b[0m\u001b[0;34m\u001b[0m\u001b[0;34m\u001b[0m\u001b[0m\n",
            "\u001b[0;31mKeyError\u001b[0m: 'teams'"
          ]
        }
      ]
    },
    {
      "cell_type": "code",
      "metadata": {
        "id": "iY-cn6wxMY6s",
        "colab_type": "code",
        "colab": {}
      },
      "source": [
        "# reading in Nick's ranked data\n",
        "ky = \"RGAPI-3caeba99-f865-41db-aa31-eef435377e33\"\n",
        "name = \"big arms\"\n",
        "game = \"5v5 Ranked Solo games\"\n",
        "df_nick_ranked = get_player_data(ky,name,game)"
      ],
      "execution_count": 0,
      "outputs": []
    },
    {
      "cell_type": "code",
      "metadata": {
        "id": "i7dexdiaMd5O",
        "colab_type": "code",
        "colab": {}
      },
      "source": [
        "# reading in Gbay's ranked data\n",
        "ky = \"RGAPI-3caeba99-f865-41db-aa31-eef435377e33\"\n",
        "name = \"Gbay99\"\n",
        "game = \"5v5 Ranked Solo games\"\n",
        "df_gbay_ranked = get_player_data(ky,name,game)"
      ],
      "execution_count": 0,
      "outputs": []
    },
    {
      "cell_type": "code",
      "metadata": {
        "id": "4Fq-wm0aMqDP",
        "colab_type": "code",
        "colab": {}
      },
      "source": [
        "img = plt.imread(\"LeagueMap.png\")"
      ],
      "execution_count": 0,
      "outputs": []
    },
    {
      "cell_type": "code",
      "metadata": {
        "id": "i5vkAqXfMrS9",
        "colab_type": "code",
        "colab": {}
      },
      "source": [
        "df_plot = df_gbay_ranked[df_gbay_ranked[\"type\"] == \"CHAMPION_KILL\"]\n",
        "df_plot[\"map.y\"] = (15000 - df_plot[\"position.y\"]) / 29.3\n",
        "df_plot[\"map.x\"] = df_plot[\"position.x\"] / 29.3"
      ],
      "execution_count": 0,
      "outputs": []
    },
    {
      "cell_type": "code",
      "metadata": {
        "id": "LvApqwNGMxSS",
        "colab_type": "code",
        "colab": {}
      },
      "source": [
        "df_kills = df_plot[df_plot[\"kill\"] == 1]\n",
        "df_k00 = df_kills[df_kills[\"minute\"] < 17]\n",
        "df_k17 = df_kills[(df_kills[\"minute\"] >= 17)]"
      ],
      "execution_count": 0,
      "outputs": []
    },
    {
      "cell_type": "code",
      "metadata": {
        "id": "WypO5iJKM4Yf",
        "colab_type": "code",
        "colab": {}
      },
      "source": [
        "plt.rcParams[\"figure.figsize\"]=11,11"
      ],
      "execution_count": 0,
      "outputs": []
    },
    {
      "cell_type": "code",
      "metadata": {
        "id": "BZ82zul6Woib",
        "colab_type": "code",
        "colab": {}
      },
      "source": [
        "imgplot = plt.imshow(img)\n",
        "plt.scatter(x=df_k00[\"map.x\"], y=df_k00[\"map.y\"], c=\"r\", s=100, alpha=.5)\n",
        "plt.scatter(x=df_k15[\"map.x\"], y=df_k15[\"map.y\"], c=\"b\", s=100, alpha=.5)"
      ],
      "execution_count": 0,
      "outputs": []
    },
    {
      "cell_type": "code",
      "metadata": {
        "id": "RpbobyeiWvho",
        "colab_type": "code",
        "colab": {}
      },
      "source": [
        "df_dode = df_dode_urf[df_dode_urf[\"minute\"].notna()]\n",
        "df_dode_10 = df_dode[df_dode[\"minute\"]>10]"
      ],
      "execution_count": 0,
      "outputs": []
    },
    {
      "cell_type": "code",
      "metadata": {
        "id": "K0GQUNu6WzcH",
        "colab_type": "code",
        "colab": {}
      },
      "source": [
        "df_nick_ranked = df_nick[df_nick[\"minute\"].notna()]\n",
        "df_nick_10 = df_nick_ranked[df_nick_ranked[\"minute\"]>10]"
      ],
      "execution_count": 0,
      "outputs": []
    },
    {
      "cell_type": "code",
      "metadata": {
        "id": "J7CQfBfXW07z",
        "colab_type": "code",
        "colab": {}
      },
      "source": [
        "df_gbay = df_gbay_ranked[df_gbay_ranked[\"minute\"].notna()]\n",
        "df_gbay_10 = df_gbay[df_gbay[\"minute\"]>10]"
      ],
      "execution_count": 0,
      "outputs": []
    },
    {
      "cell_type": "code",
      "metadata": {
        "id": "k6qSBZnrW2gb",
        "colab_type": "code",
        "colab": {}
      },
      "source": [
        "features = [\"tower_assisting\", \"tower_kill\", \"kill\", \"death\",\"level_up\",\"assist\",\n",
        "            \"minute\",\"kills\",\"deaths\",\"level\",\"kill_participation\",\"tower_kills\",\n",
        "            \"team_participation\"]\n",
        "\n",
        "model1 = make_pipeline(\n",
        "  StandardScaler(with_mean=False),\n",
        "  #KNeighborsClassifier(n_neighbors=1, metric=\"manhattan\")\n",
        "  #RandomForestRegressor(n_estimators=100,oob_score=True)\n",
        "  MLPClassifier(hidden_layer_sizes=(10,), max_iter=10000)\n",
        "  )\n",
        "\n",
        "model1.fit(X=df_gbay_10[features],y=df_gbay_10[\"win\"])\n",
        "\n",
        "cv_errs = cross_val_score(model1,X=df_gbay_10[features],\n",
        "                                  y=df_gbay_10[\"win\"],\n",
        "                                  scoring=\"f1_macro\", \n",
        "                                  #scoring=\"neg_mean_squared_error\",\n",
        "                                  cv=30)\n",
        "cv_errs.mean()"
      ],
      "execution_count": 0,
      "outputs": []
    },
    {
      "cell_type": "code",
      "metadata": {
        "id": "6IZUanj-W3_R",
        "colab_type": "code",
        "colab": {}
      },
      "source": [
        "features = [\"tower_assisting\", \"tower_kill\", \"kill\", \"death\",\"level_up\",\"assist\",\n",
        "            \"minute\",\"kills\",\"deaths\",\"level\",\"kill_participation\",\"tower_kills\",\n",
        "            \"team_participation\"]\n",
        "\n",
        "model2 = make_pipeline(\n",
        "  StandardScaler(with_mean=False),\n",
        "  #KNeighborsClassifier(n_neighbors=1, metric=\"manhattan\")\n",
        "  #RandomForestRegressor(n_estimators=100,oob_score=True)\n",
        "  MLPClassifier(hidden_layer_sizes=(10,), max_iter=10000)\n",
        "  )\n",
        "\n",
        "model2.fit(X=df_nick_10[features],y=df_nick_10[\"win\"])\n",
        "\n",
        "cv_errs = cross_val_score(model2,X=df_nick_10[features],\n",
        "                                  y=df_nick_10[\"win\"],\n",
        "                                  scoring=\"f1_macro\", \n",
        "                                  #scoring=\"neg_mean_squared_error\",\n",
        "                                  cv=30)\n",
        "cv_errs.mean()"
      ],
      "execution_count": 0,
      "outputs": []
    },
    {
      "cell_type": "code",
      "metadata": {
        "id": "3TziJkOuW5w1",
        "colab_type": "code",
        "colab": {}
      },
      "source": [
        "features = [\"tower_assisting\", \"tower_kill\", \"kill\", \"death\",\"level_up\",\"assist\",\n",
        "            \"minute\",\"kills\",\"deaths\",\"level\",\"kill_participation\",\"tower_kills\",\n",
        "            \"team_participation\"]\n",
        "\n",
        "model3 = make_pipeline(\n",
        "  StandardScaler(with_mean=False),\n",
        "  #KNeighborsClassifier(n_neighbors=1, metric=\"manhattan\")\n",
        "  #RandomForestRegressor(n_estimators=100,oob_score=True)\n",
        "  MLPClassifier(hidden_layer_sizes=(10,), max_iter=10000)\n",
        "  )\n",
        "\n",
        "model3.fit(X=df_dode_10[features],y=df_dode_10[\"win\"])\n",
        "\n",
        "cv_errs = cross_val_score(model3,X=df_dode_10[features],\n",
        "                                  y=df_dode_10[\"win\"],\n",
        "                                  scoring=\"f1_macro\", \n",
        "                                  #scoring=\"neg_mean_squared_error\",\n",
        "                                  cv=30)\n",
        "cv_errs.mean()"
      ],
      "execution_count": 0,
      "outputs": []
    }
  ]
}